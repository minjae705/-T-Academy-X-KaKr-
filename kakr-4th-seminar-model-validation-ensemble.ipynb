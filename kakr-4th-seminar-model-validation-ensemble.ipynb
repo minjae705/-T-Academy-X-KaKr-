{
 "cells": [
  {
   "cell_type": "markdown",
   "metadata": {
    "papermill": {
     "duration": 0.055693,
     "end_time": "2020-11-14T08:11:58.649158",
     "exception": false,
     "start_time": "2020-11-14T08:11:58.593465",
     "status": "completed"
    },
    "tags": []
   },
   "source": [
    "### 1. 데이터 전처리"
   ]
  },
  {
   "cell_type": "code",
   "execution_count": 1,
   "metadata": {
    "_cell_guid": "b1076dfc-b9ad-4769-8c92-a6c4dae69d19",
    "_uuid": "8f2839f25d086af736a60e9eeb907d3b93b6e0e5",
    "execution": {
     "iopub.execute_input": "2020-11-14T08:11:58.764881Z",
     "iopub.status.busy": "2020-11-14T08:11:58.763928Z",
     "iopub.status.idle": "2020-11-14T08:11:58.767144Z",
     "shell.execute_reply": "2020-11-14T08:11:58.766505Z"
    },
    "papermill": {
     "duration": 0.064735,
     "end_time": "2020-11-14T08:11:58.767265",
     "exception": false,
     "start_time": "2020-11-14T08:11:58.702530",
     "status": "completed"
    },
    "tags": []
   },
   "outputs": [],
   "source": [
    "import numpy as np\n",
    "import pandas as pd\n",
    "\n",
    "import warnings\n",
    "warnings.filterwarnings(action='ignore')"
   ]
  },
  {
   "cell_type": "markdown",
   "metadata": {
    "papermill": {
     "duration": 0.052043,
     "end_time": "2020-11-14T08:11:58.873110",
     "exception": false,
     "start_time": "2020-11-14T08:11:58.821067",
     "status": "completed"
    },
    "tags": []
   },
   "source": [
    "#### 1) CSV 파일 불러오기"
   ]
  },
  {
   "cell_type": "code",
   "execution_count": 2,
   "metadata": {
    "_cell_guid": "79c7e3d0-c299-4dcb-8224-4455121ee9b0",
    "_uuid": "d629ff2d2480ee46fbb7e2d37f6b5fab8052498a",
    "execution": {
     "iopub.execute_input": "2020-11-14T08:11:58.986606Z",
     "iopub.status.busy": "2020-11-14T08:11:58.985479Z",
     "iopub.status.idle": "2020-11-14T08:11:59.092789Z",
     "shell.execute_reply": "2020-11-14T08:11:59.091832Z"
    },
    "papermill": {
     "duration": 0.167399,
     "end_time": "2020-11-14T08:11:59.092914",
     "exception": false,
     "start_time": "2020-11-14T08:11:58.925515",
     "status": "completed"
    },
    "tags": []
   },
   "outputs": [],
   "source": [
    "train = pd.read_csv(\"/kaggle/input/kakr-4th-competition/train.csv\")\n",
    "label = train['income']\n",
    "\n",
    "del train['income']\n",
    "\n",
    "test = pd.read_csv(\"/kaggle/input/kakr-4th-competition/test.csv\")"
   ]
  },
  {
   "cell_type": "code",
   "execution_count": 3,
   "metadata": {
    "execution": {
     "iopub.execute_input": "2020-11-14T08:11:59.218473Z",
     "iopub.status.busy": "2020-11-14T08:11:59.217773Z",
     "iopub.status.idle": "2020-11-14T08:11:59.233018Z",
     "shell.execute_reply": "2020-11-14T08:11:59.233592Z"
    },
    "papermill": {
     "duration": 0.085823,
     "end_time": "2020-11-14T08:11:59.233733",
     "exception": false,
     "start_time": "2020-11-14T08:11:59.147910",
     "status": "completed"
    },
    "tags": []
   },
   "outputs": [
    {
     "data": {
      "text/html": [
       "<div>\n",
       "<style scoped>\n",
       "    .dataframe tbody tr th:only-of-type {\n",
       "        vertical-align: middle;\n",
       "    }\n",
       "\n",
       "    .dataframe tbody tr th {\n",
       "        vertical-align: top;\n",
       "    }\n",
       "\n",
       "    .dataframe thead th {\n",
       "        text-align: right;\n",
       "    }\n",
       "</style>\n",
       "<table border=\"1\" class=\"dataframe\">\n",
       "  <thead>\n",
       "    <tr style=\"text-align: right;\">\n",
       "      <th></th>\n",
       "      <th>id</th>\n",
       "      <th>age</th>\n",
       "      <th>workclass</th>\n",
       "      <th>fnlwgt</th>\n",
       "      <th>education</th>\n",
       "      <th>education_num</th>\n",
       "      <th>marital_status</th>\n",
       "      <th>occupation</th>\n",
       "      <th>relationship</th>\n",
       "      <th>race</th>\n",
       "      <th>sex</th>\n",
       "      <th>capital_gain</th>\n",
       "      <th>capital_loss</th>\n",
       "      <th>hours_per_week</th>\n",
       "      <th>native_country</th>\n",
       "    </tr>\n",
       "  </thead>\n",
       "  <tbody>\n",
       "    <tr>\n",
       "      <th>0</th>\n",
       "      <td>0</td>\n",
       "      <td>40</td>\n",
       "      <td>Private</td>\n",
       "      <td>168538</td>\n",
       "      <td>HS-grad</td>\n",
       "      <td>9</td>\n",
       "      <td>Married-civ-spouse</td>\n",
       "      <td>Sales</td>\n",
       "      <td>Husband</td>\n",
       "      <td>White</td>\n",
       "      <td>Male</td>\n",
       "      <td>0</td>\n",
       "      <td>0</td>\n",
       "      <td>60</td>\n",
       "      <td>United-States</td>\n",
       "    </tr>\n",
       "    <tr>\n",
       "      <th>1</th>\n",
       "      <td>1</td>\n",
       "      <td>17</td>\n",
       "      <td>Private</td>\n",
       "      <td>101626</td>\n",
       "      <td>9th</td>\n",
       "      <td>5</td>\n",
       "      <td>Never-married</td>\n",
       "      <td>Machine-op-inspct</td>\n",
       "      <td>Own-child</td>\n",
       "      <td>White</td>\n",
       "      <td>Male</td>\n",
       "      <td>0</td>\n",
       "      <td>0</td>\n",
       "      <td>20</td>\n",
       "      <td>United-States</td>\n",
       "    </tr>\n",
       "    <tr>\n",
       "      <th>2</th>\n",
       "      <td>2</td>\n",
       "      <td>18</td>\n",
       "      <td>Private</td>\n",
       "      <td>353358</td>\n",
       "      <td>Some-college</td>\n",
       "      <td>10</td>\n",
       "      <td>Never-married</td>\n",
       "      <td>Other-service</td>\n",
       "      <td>Own-child</td>\n",
       "      <td>White</td>\n",
       "      <td>Male</td>\n",
       "      <td>0</td>\n",
       "      <td>0</td>\n",
       "      <td>16</td>\n",
       "      <td>United-States</td>\n",
       "    </tr>\n",
       "    <tr>\n",
       "      <th>3</th>\n",
       "      <td>3</td>\n",
       "      <td>21</td>\n",
       "      <td>Private</td>\n",
       "      <td>151158</td>\n",
       "      <td>Some-college</td>\n",
       "      <td>10</td>\n",
       "      <td>Never-married</td>\n",
       "      <td>Prof-specialty</td>\n",
       "      <td>Own-child</td>\n",
       "      <td>White</td>\n",
       "      <td>Female</td>\n",
       "      <td>0</td>\n",
       "      <td>0</td>\n",
       "      <td>25</td>\n",
       "      <td>United-States</td>\n",
       "    </tr>\n",
       "    <tr>\n",
       "      <th>4</th>\n",
       "      <td>4</td>\n",
       "      <td>24</td>\n",
       "      <td>Private</td>\n",
       "      <td>122234</td>\n",
       "      <td>Some-college</td>\n",
       "      <td>10</td>\n",
       "      <td>Never-married</td>\n",
       "      <td>Adm-clerical</td>\n",
       "      <td>Not-in-family</td>\n",
       "      <td>Black</td>\n",
       "      <td>Female</td>\n",
       "      <td>0</td>\n",
       "      <td>0</td>\n",
       "      <td>20</td>\n",
       "      <td>?</td>\n",
       "    </tr>\n",
       "  </tbody>\n",
       "</table>\n",
       "</div>"
      ],
      "text/plain": [
       "   id  age workclass  fnlwgt     education  education_num      marital_status  \\\n",
       "0   0   40   Private  168538       HS-grad              9  Married-civ-spouse   \n",
       "1   1   17   Private  101626           9th              5       Never-married   \n",
       "2   2   18   Private  353358  Some-college             10       Never-married   \n",
       "3   3   21   Private  151158  Some-college             10       Never-married   \n",
       "4   4   24   Private  122234  Some-college             10       Never-married   \n",
       "\n",
       "          occupation   relationship   race     sex  capital_gain  \\\n",
       "0              Sales        Husband  White    Male             0   \n",
       "1  Machine-op-inspct      Own-child  White    Male             0   \n",
       "2      Other-service      Own-child  White    Male             0   \n",
       "3     Prof-specialty      Own-child  White  Female             0   \n",
       "4       Adm-clerical  Not-in-family  Black  Female             0   \n",
       "\n",
       "   capital_loss  hours_per_week native_country  \n",
       "0             0              60  United-States  \n",
       "1             0              20  United-States  \n",
       "2             0              16  United-States  \n",
       "3             0              25  United-States  \n",
       "4             0              20              ?  "
      ]
     },
     "execution_count": 3,
     "metadata": {},
     "output_type": "execute_result"
    }
   ],
   "source": [
    "train.head()"
   ]
  },
  {
   "cell_type": "code",
   "execution_count": 4,
   "metadata": {
    "execution": {
     "iopub.execute_input": "2020-11-14T08:11:59.352511Z",
     "iopub.status.busy": "2020-11-14T08:11:59.351670Z",
     "iopub.status.idle": "2020-11-14T08:11:59.354802Z",
     "shell.execute_reply": "2020-11-14T08:11:59.355328Z"
    },
    "papermill": {
     "duration": 0.064801,
     "end_time": "2020-11-14T08:11:59.355471",
     "exception": false,
     "start_time": "2020-11-14T08:11:59.290670",
     "status": "completed"
    },
    "tags": []
   },
   "outputs": [
    {
     "data": {
      "text/plain": [
       "0     >50K\n",
       "1    <=50K\n",
       "2    <=50K\n",
       "3    <=50K\n",
       "4    <=50K\n",
       "Name: income, dtype: object"
      ]
     },
     "execution_count": 4,
     "metadata": {},
     "output_type": "execute_result"
    }
   ],
   "source": [
    "label.head()"
   ]
  },
  {
   "cell_type": "code",
   "execution_count": 5,
   "metadata": {
    "execution": {
     "iopub.execute_input": "2020-11-14T08:11:59.490974Z",
     "iopub.status.busy": "2020-11-14T08:11:59.476409Z",
     "iopub.status.idle": "2020-11-14T08:11:59.494114Z",
     "shell.execute_reply": "2020-11-14T08:11:59.493537Z"
    },
    "papermill": {
     "duration": 0.083472,
     "end_time": "2020-11-14T08:11:59.494232",
     "exception": false,
     "start_time": "2020-11-14T08:11:59.410760",
     "status": "completed"
    },
    "tags": []
   },
   "outputs": [],
   "source": [
    "# 라벨 값 인코딩\n",
    "label = label.map(lambda x: 1 if x == '>50K' else 0)"
   ]
  },
  {
   "cell_type": "markdown",
   "metadata": {
    "papermill": {
     "duration": 0.056595,
     "end_time": "2020-11-14T08:11:59.609574",
     "exception": false,
     "start_time": "2020-11-14T08:11:59.552979",
     "status": "completed"
    },
    "tags": []
   },
   "source": [
    "ID 컬럼은 행의 식별자로 필요 없는 컬럼이므로 삭제하겠습니다. "
   ]
  },
  {
   "cell_type": "code",
   "execution_count": 6,
   "metadata": {
    "execution": {
     "iopub.execute_input": "2020-11-14T08:11:59.727992Z",
     "iopub.status.busy": "2020-11-14T08:11:59.726953Z",
     "iopub.status.idle": "2020-11-14T08:11:59.731544Z",
     "shell.execute_reply": "2020-11-14T08:11:59.730826Z"
    },
    "papermill": {
     "duration": 0.065872,
     "end_time": "2020-11-14T08:11:59.731659",
     "exception": false,
     "start_time": "2020-11-14T08:11:59.665787",
     "status": "completed"
    },
    "tags": []
   },
   "outputs": [],
   "source": [
    "del train['id']\n",
    "del test['id']"
   ]
  },
  {
   "cell_type": "code",
   "execution_count": 7,
   "metadata": {
    "execution": {
     "iopub.execute_input": "2020-11-14T08:11:59.848938Z",
     "iopub.status.busy": "2020-11-14T08:11:59.847973Z",
     "iopub.status.idle": "2020-11-14T08:11:59.855224Z",
     "shell.execute_reply": "2020-11-14T08:11:59.854565Z"
    },
    "papermill": {
     "duration": 0.066723,
     "end_time": "2020-11-14T08:11:59.855328",
     "exception": false,
     "start_time": "2020-11-14T08:11:59.788605",
     "status": "completed"
    },
    "tags": []
   },
   "outputs": [],
   "source": [
    "tmp_train = train.copy()\n",
    "tmp_test  = test.copy()"
   ]
  },
  {
   "cell_type": "markdown",
   "metadata": {
    "papermill": {
     "duration": 0.056011,
     "end_time": "2020-11-14T08:11:59.976592",
     "exception": false,
     "start_time": "2020-11-14T08:11:59.920581",
     "status": "completed"
    },
    "tags": []
   },
   "source": [
    "#### 2) 데이터 확인\n",
    ".head(), .describe(), .info() 등의 함수로 데이터를 확인합니다. "
   ]
  },
  {
   "cell_type": "code",
   "execution_count": 8,
   "metadata": {
    "execution": {
     "iopub.execute_input": "2020-11-14T08:12:00.110395Z",
     "iopub.status.busy": "2020-11-14T08:12:00.109365Z",
     "iopub.status.idle": "2020-11-14T08:12:00.113730Z",
     "shell.execute_reply": "2020-11-14T08:12:00.113212Z"
    },
    "papermill": {
     "duration": 0.078577,
     "end_time": "2020-11-14T08:12:00.113835",
     "exception": false,
     "start_time": "2020-11-14T08:12:00.035258",
     "status": "completed"
    },
    "tags": []
   },
   "outputs": [
    {
     "data": {
      "text/html": [
       "<div>\n",
       "<style scoped>\n",
       "    .dataframe tbody tr th:only-of-type {\n",
       "        vertical-align: middle;\n",
       "    }\n",
       "\n",
       "    .dataframe tbody tr th {\n",
       "        vertical-align: top;\n",
       "    }\n",
       "\n",
       "    .dataframe thead th {\n",
       "        text-align: right;\n",
       "    }\n",
       "</style>\n",
       "<table border=\"1\" class=\"dataframe\">\n",
       "  <thead>\n",
       "    <tr style=\"text-align: right;\">\n",
       "      <th></th>\n",
       "      <th>age</th>\n",
       "      <th>workclass</th>\n",
       "      <th>fnlwgt</th>\n",
       "      <th>education</th>\n",
       "      <th>education_num</th>\n",
       "      <th>marital_status</th>\n",
       "      <th>occupation</th>\n",
       "      <th>relationship</th>\n",
       "      <th>race</th>\n",
       "      <th>sex</th>\n",
       "      <th>capital_gain</th>\n",
       "      <th>capital_loss</th>\n",
       "      <th>hours_per_week</th>\n",
       "      <th>native_country</th>\n",
       "    </tr>\n",
       "  </thead>\n",
       "  <tbody>\n",
       "    <tr>\n",
       "      <th>0</th>\n",
       "      <td>40</td>\n",
       "      <td>Private</td>\n",
       "      <td>168538</td>\n",
       "      <td>HS-grad</td>\n",
       "      <td>9</td>\n",
       "      <td>Married-civ-spouse</td>\n",
       "      <td>Sales</td>\n",
       "      <td>Husband</td>\n",
       "      <td>White</td>\n",
       "      <td>Male</td>\n",
       "      <td>0</td>\n",
       "      <td>0</td>\n",
       "      <td>60</td>\n",
       "      <td>United-States</td>\n",
       "    </tr>\n",
       "    <tr>\n",
       "      <th>1</th>\n",
       "      <td>17</td>\n",
       "      <td>Private</td>\n",
       "      <td>101626</td>\n",
       "      <td>9th</td>\n",
       "      <td>5</td>\n",
       "      <td>Never-married</td>\n",
       "      <td>Machine-op-inspct</td>\n",
       "      <td>Own-child</td>\n",
       "      <td>White</td>\n",
       "      <td>Male</td>\n",
       "      <td>0</td>\n",
       "      <td>0</td>\n",
       "      <td>20</td>\n",
       "      <td>United-States</td>\n",
       "    </tr>\n",
       "    <tr>\n",
       "      <th>2</th>\n",
       "      <td>18</td>\n",
       "      <td>Private</td>\n",
       "      <td>353358</td>\n",
       "      <td>Some-college</td>\n",
       "      <td>10</td>\n",
       "      <td>Never-married</td>\n",
       "      <td>Other-service</td>\n",
       "      <td>Own-child</td>\n",
       "      <td>White</td>\n",
       "      <td>Male</td>\n",
       "      <td>0</td>\n",
       "      <td>0</td>\n",
       "      <td>16</td>\n",
       "      <td>United-States</td>\n",
       "    </tr>\n",
       "    <tr>\n",
       "      <th>3</th>\n",
       "      <td>21</td>\n",
       "      <td>Private</td>\n",
       "      <td>151158</td>\n",
       "      <td>Some-college</td>\n",
       "      <td>10</td>\n",
       "      <td>Never-married</td>\n",
       "      <td>Prof-specialty</td>\n",
       "      <td>Own-child</td>\n",
       "      <td>White</td>\n",
       "      <td>Female</td>\n",
       "      <td>0</td>\n",
       "      <td>0</td>\n",
       "      <td>25</td>\n",
       "      <td>United-States</td>\n",
       "    </tr>\n",
       "    <tr>\n",
       "      <th>4</th>\n",
       "      <td>24</td>\n",
       "      <td>Private</td>\n",
       "      <td>122234</td>\n",
       "      <td>Some-college</td>\n",
       "      <td>10</td>\n",
       "      <td>Never-married</td>\n",
       "      <td>Adm-clerical</td>\n",
       "      <td>Not-in-family</td>\n",
       "      <td>Black</td>\n",
       "      <td>Female</td>\n",
       "      <td>0</td>\n",
       "      <td>0</td>\n",
       "      <td>20</td>\n",
       "      <td>?</td>\n",
       "    </tr>\n",
       "  </tbody>\n",
       "</table>\n",
       "</div>"
      ],
      "text/plain": [
       "   age workclass  fnlwgt     education  education_num      marital_status  \\\n",
       "0   40   Private  168538       HS-grad              9  Married-civ-spouse   \n",
       "1   17   Private  101626           9th              5       Never-married   \n",
       "2   18   Private  353358  Some-college             10       Never-married   \n",
       "3   21   Private  151158  Some-college             10       Never-married   \n",
       "4   24   Private  122234  Some-college             10       Never-married   \n",
       "\n",
       "          occupation   relationship   race     sex  capital_gain  \\\n",
       "0              Sales        Husband  White    Male             0   \n",
       "1  Machine-op-inspct      Own-child  White    Male             0   \n",
       "2      Other-service      Own-child  White    Male             0   \n",
       "3     Prof-specialty      Own-child  White  Female             0   \n",
       "4       Adm-clerical  Not-in-family  Black  Female             0   \n",
       "\n",
       "   capital_loss  hours_per_week native_country  \n",
       "0             0              60  United-States  \n",
       "1             0              20  United-States  \n",
       "2             0              16  United-States  \n",
       "3             0              25  United-States  \n",
       "4             0              20              ?  "
      ]
     },
     "execution_count": 8,
     "metadata": {},
     "output_type": "execute_result"
    }
   ],
   "source": [
    "tmp_train.head()"
   ]
  },
  {
   "cell_type": "code",
   "execution_count": 9,
   "metadata": {
    "execution": {
     "iopub.execute_input": "2020-11-14T08:12:00.255055Z",
     "iopub.status.busy": "2020-11-14T08:12:00.253945Z",
     "iopub.status.idle": "2020-11-14T08:12:00.270029Z",
     "shell.execute_reply": "2020-11-14T08:12:00.269098Z"
    },
    "papermill": {
     "duration": 0.099898,
     "end_time": "2020-11-14T08:12:00.270159",
     "exception": false,
     "start_time": "2020-11-14T08:12:00.170261",
     "status": "completed"
    },
    "tags": []
   },
   "outputs": [
    {
     "name": "stdout",
     "output_type": "stream",
     "text": [
      "<class 'pandas.core.frame.DataFrame'>\n",
      "RangeIndex: 26049 entries, 0 to 26048\n",
      "Data columns (total 14 columns):\n",
      " #   Column          Non-Null Count  Dtype \n",
      "---  ------          --------------  ----- \n",
      " 0   age             26049 non-null  int64 \n",
      " 1   workclass       26049 non-null  object\n",
      " 2   fnlwgt          26049 non-null  int64 \n",
      " 3   education       26049 non-null  object\n",
      " 4   education_num   26049 non-null  int64 \n",
      " 5   marital_status  26049 non-null  object\n",
      " 6   occupation      26049 non-null  object\n",
      " 7   relationship    26049 non-null  object\n",
      " 8   race            26049 non-null  object\n",
      " 9   sex             26049 non-null  object\n",
      " 10  capital_gain    26049 non-null  int64 \n",
      " 11  capital_loss    26049 non-null  int64 \n",
      " 12  hours_per_week  26049 non-null  int64 \n",
      " 13  native_country  26049 non-null  object\n",
      "dtypes: int64(6), object(8)\n",
      "memory usage: 2.8+ MB\n"
     ]
    }
   ],
   "source": [
    "tmp_train.info()"
   ]
  },
  {
   "cell_type": "code",
   "execution_count": 10,
   "metadata": {
    "execution": {
     "iopub.execute_input": "2020-11-14T08:12:00.408650Z",
     "iopub.status.busy": "2020-11-14T08:12:00.407640Z",
     "iopub.status.idle": "2020-11-14T08:12:00.442976Z",
     "shell.execute_reply": "2020-11-14T08:12:00.443684Z"
    },
    "papermill": {
     "duration": 0.109378,
     "end_time": "2020-11-14T08:12:00.443847",
     "exception": false,
     "start_time": "2020-11-14T08:12:00.334469",
     "status": "completed"
    },
    "tags": []
   },
   "outputs": [
    {
     "data": {
      "text/html": [
       "<div>\n",
       "<style scoped>\n",
       "    .dataframe tbody tr th:only-of-type {\n",
       "        vertical-align: middle;\n",
       "    }\n",
       "\n",
       "    .dataframe tbody tr th {\n",
       "        vertical-align: top;\n",
       "    }\n",
       "\n",
       "    .dataframe thead th {\n",
       "        text-align: right;\n",
       "    }\n",
       "</style>\n",
       "<table border=\"1\" class=\"dataframe\">\n",
       "  <thead>\n",
       "    <tr style=\"text-align: right;\">\n",
       "      <th></th>\n",
       "      <th>age</th>\n",
       "      <th>fnlwgt</th>\n",
       "      <th>education_num</th>\n",
       "      <th>capital_gain</th>\n",
       "      <th>capital_loss</th>\n",
       "      <th>hours_per_week</th>\n",
       "    </tr>\n",
       "  </thead>\n",
       "  <tbody>\n",
       "    <tr>\n",
       "      <th>count</th>\n",
       "      <td>26049.000000</td>\n",
       "      <td>2.604900e+04</td>\n",
       "      <td>26049.000000</td>\n",
       "      <td>26049.00000</td>\n",
       "      <td>26049.000000</td>\n",
       "      <td>26049.000000</td>\n",
       "    </tr>\n",
       "    <tr>\n",
       "      <th>mean</th>\n",
       "      <td>38.569235</td>\n",
       "      <td>1.903045e+05</td>\n",
       "      <td>10.088372</td>\n",
       "      <td>1087.68970</td>\n",
       "      <td>87.732734</td>\n",
       "      <td>40.443126</td>\n",
       "    </tr>\n",
       "    <tr>\n",
       "      <th>std</th>\n",
       "      <td>13.671489</td>\n",
       "      <td>1.059663e+05</td>\n",
       "      <td>2.567610</td>\n",
       "      <td>7388.85469</td>\n",
       "      <td>403.230205</td>\n",
       "      <td>12.361850</td>\n",
       "    </tr>\n",
       "    <tr>\n",
       "      <th>min</th>\n",
       "      <td>17.000000</td>\n",
       "      <td>1.376900e+04</td>\n",
       "      <td>1.000000</td>\n",
       "      <td>0.00000</td>\n",
       "      <td>0.000000</td>\n",
       "      <td>1.000000</td>\n",
       "    </tr>\n",
       "    <tr>\n",
       "      <th>25%</th>\n",
       "      <td>28.000000</td>\n",
       "      <td>1.181080e+05</td>\n",
       "      <td>9.000000</td>\n",
       "      <td>0.00000</td>\n",
       "      <td>0.000000</td>\n",
       "      <td>40.000000</td>\n",
       "    </tr>\n",
       "    <tr>\n",
       "      <th>50%</th>\n",
       "      <td>37.000000</td>\n",
       "      <td>1.788660e+05</td>\n",
       "      <td>10.000000</td>\n",
       "      <td>0.00000</td>\n",
       "      <td>0.000000</td>\n",
       "      <td>40.000000</td>\n",
       "    </tr>\n",
       "    <tr>\n",
       "      <th>75%</th>\n",
       "      <td>48.000000</td>\n",
       "      <td>2.377350e+05</td>\n",
       "      <td>12.000000</td>\n",
       "      <td>0.00000</td>\n",
       "      <td>0.000000</td>\n",
       "      <td>45.000000</td>\n",
       "    </tr>\n",
       "    <tr>\n",
       "      <th>max</th>\n",
       "      <td>90.000000</td>\n",
       "      <td>1.484705e+06</td>\n",
       "      <td>16.000000</td>\n",
       "      <td>99999.00000</td>\n",
       "      <td>4356.000000</td>\n",
       "      <td>99.000000</td>\n",
       "    </tr>\n",
       "  </tbody>\n",
       "</table>\n",
       "</div>"
      ],
      "text/plain": [
       "                age        fnlwgt  education_num  capital_gain  capital_loss  \\\n",
       "count  26049.000000  2.604900e+04   26049.000000   26049.00000  26049.000000   \n",
       "mean      38.569235  1.903045e+05      10.088372    1087.68970     87.732734   \n",
       "std       13.671489  1.059663e+05       2.567610    7388.85469    403.230205   \n",
       "min       17.000000  1.376900e+04       1.000000       0.00000      0.000000   \n",
       "25%       28.000000  1.181080e+05       9.000000       0.00000      0.000000   \n",
       "50%       37.000000  1.788660e+05      10.000000       0.00000      0.000000   \n",
       "75%       48.000000  2.377350e+05      12.000000       0.00000      0.000000   \n",
       "max       90.000000  1.484705e+06      16.000000   99999.00000   4356.000000   \n",
       "\n",
       "       hours_per_week  \n",
       "count    26049.000000  \n",
       "mean        40.443126  \n",
       "std         12.361850  \n",
       "min          1.000000  \n",
       "25%         40.000000  \n",
       "50%         40.000000  \n",
       "75%         45.000000  \n",
       "max         99.000000  "
      ]
     },
     "execution_count": 10,
     "metadata": {},
     "output_type": "execute_result"
    }
   ],
   "source": [
    "tmp_train.describe()"
   ]
  },
  {
   "cell_type": "code",
   "execution_count": 11,
   "metadata": {
    "execution": {
     "iopub.execute_input": "2020-11-14T08:12:00.595944Z",
     "iopub.status.busy": "2020-11-14T08:12:00.594769Z",
     "iopub.status.idle": "2020-11-14T08:12:00.599148Z",
     "shell.execute_reply": "2020-11-14T08:12:00.599801Z"
    },
    "papermill": {
     "duration": 0.088563,
     "end_time": "2020-11-14T08:12:00.599951",
     "exception": false,
     "start_time": "2020-11-14T08:12:00.511388",
     "status": "completed"
    },
    "tags": []
   },
   "outputs": [
    {
     "data": {
      "text/html": [
       "<div>\n",
       "<style scoped>\n",
       "    .dataframe tbody tr th:only-of-type {\n",
       "        vertical-align: middle;\n",
       "    }\n",
       "\n",
       "    .dataframe tbody tr th {\n",
       "        vertical-align: top;\n",
       "    }\n",
       "\n",
       "    .dataframe thead th {\n",
       "        text-align: right;\n",
       "    }\n",
       "</style>\n",
       "<table border=\"1\" class=\"dataframe\">\n",
       "  <thead>\n",
       "    <tr style=\"text-align: right;\">\n",
       "      <th></th>\n",
       "      <th>age</th>\n",
       "      <th>workclass</th>\n",
       "      <th>fnlwgt</th>\n",
       "      <th>education</th>\n",
       "      <th>education_num</th>\n",
       "      <th>marital_status</th>\n",
       "      <th>occupation</th>\n",
       "      <th>relationship</th>\n",
       "      <th>race</th>\n",
       "      <th>sex</th>\n",
       "      <th>capital_gain</th>\n",
       "      <th>capital_loss</th>\n",
       "      <th>hours_per_week</th>\n",
       "      <th>native_country</th>\n",
       "    </tr>\n",
       "  </thead>\n",
       "  <tbody>\n",
       "    <tr>\n",
       "      <th>0</th>\n",
       "      <td>28</td>\n",
       "      <td>Private</td>\n",
       "      <td>67661</td>\n",
       "      <td>Some-college</td>\n",
       "      <td>10</td>\n",
       "      <td>Never-married</td>\n",
       "      <td>Adm-clerical</td>\n",
       "      <td>Other-relative</td>\n",
       "      <td>White</td>\n",
       "      <td>Female</td>\n",
       "      <td>0</td>\n",
       "      <td>0</td>\n",
       "      <td>40</td>\n",
       "      <td>United-States</td>\n",
       "    </tr>\n",
       "    <tr>\n",
       "      <th>1</th>\n",
       "      <td>40</td>\n",
       "      <td>Self-emp-inc</td>\n",
       "      <td>37869</td>\n",
       "      <td>HS-grad</td>\n",
       "      <td>9</td>\n",
       "      <td>Married-civ-spouse</td>\n",
       "      <td>Exec-managerial</td>\n",
       "      <td>Husband</td>\n",
       "      <td>White</td>\n",
       "      <td>Male</td>\n",
       "      <td>0</td>\n",
       "      <td>0</td>\n",
       "      <td>50</td>\n",
       "      <td>United-States</td>\n",
       "    </tr>\n",
       "    <tr>\n",
       "      <th>2</th>\n",
       "      <td>20</td>\n",
       "      <td>Private</td>\n",
       "      <td>109952</td>\n",
       "      <td>Some-college</td>\n",
       "      <td>10</td>\n",
       "      <td>Never-married</td>\n",
       "      <td>Handlers-cleaners</td>\n",
       "      <td>Own-child</td>\n",
       "      <td>White</td>\n",
       "      <td>Male</td>\n",
       "      <td>0</td>\n",
       "      <td>0</td>\n",
       "      <td>25</td>\n",
       "      <td>United-States</td>\n",
       "    </tr>\n",
       "    <tr>\n",
       "      <th>3</th>\n",
       "      <td>40</td>\n",
       "      <td>Private</td>\n",
       "      <td>114537</td>\n",
       "      <td>Assoc-voc</td>\n",
       "      <td>11</td>\n",
       "      <td>Married-civ-spouse</td>\n",
       "      <td>Exec-managerial</td>\n",
       "      <td>Husband</td>\n",
       "      <td>White</td>\n",
       "      <td>Male</td>\n",
       "      <td>0</td>\n",
       "      <td>0</td>\n",
       "      <td>50</td>\n",
       "      <td>United-States</td>\n",
       "    </tr>\n",
       "    <tr>\n",
       "      <th>4</th>\n",
       "      <td>37</td>\n",
       "      <td>Private</td>\n",
       "      <td>51264</td>\n",
       "      <td>Doctorate</td>\n",
       "      <td>16</td>\n",
       "      <td>Married-civ-spouse</td>\n",
       "      <td>Prof-specialty</td>\n",
       "      <td>Husband</td>\n",
       "      <td>White</td>\n",
       "      <td>Male</td>\n",
       "      <td>0</td>\n",
       "      <td>0</td>\n",
       "      <td>99</td>\n",
       "      <td>France</td>\n",
       "    </tr>\n",
       "  </tbody>\n",
       "</table>\n",
       "</div>"
      ],
      "text/plain": [
       "   age     workclass  fnlwgt     education  education_num      marital_status  \\\n",
       "0   28       Private   67661  Some-college             10       Never-married   \n",
       "1   40  Self-emp-inc   37869       HS-grad              9  Married-civ-spouse   \n",
       "2   20       Private  109952  Some-college             10       Never-married   \n",
       "3   40       Private  114537     Assoc-voc             11  Married-civ-spouse   \n",
       "4   37       Private   51264     Doctorate             16  Married-civ-spouse   \n",
       "\n",
       "          occupation    relationship   race     sex  capital_gain  \\\n",
       "0       Adm-clerical  Other-relative  White  Female             0   \n",
       "1    Exec-managerial         Husband  White    Male             0   \n",
       "2  Handlers-cleaners       Own-child  White    Male             0   \n",
       "3    Exec-managerial         Husband  White    Male             0   \n",
       "4     Prof-specialty         Husband  White    Male             0   \n",
       "\n",
       "   capital_loss  hours_per_week native_country  \n",
       "0             0              40  United-States  \n",
       "1             0              50  United-States  \n",
       "2             0              25  United-States  \n",
       "3             0              50  United-States  \n",
       "4             0              99         France  "
      ]
     },
     "execution_count": 11,
     "metadata": {},
     "output_type": "execute_result"
    }
   ],
   "source": [
    "tmp_test.head()"
   ]
  },
  {
   "cell_type": "markdown",
   "metadata": {
    "papermill": {
     "duration": 0.059365,
     "end_time": "2020-11-14T08:12:00.726608",
     "exception": false,
     "start_time": "2020-11-14T08:12:00.667243",
     "status": "completed"
    },
    "tags": []
   },
   "source": [
    "#### 3) 결측치 처리\n",
    "이전 태진님 강의에서 'workclass', 'occupation', 'native_country' 컬럼에 결측치가 있다는 것을 알 수 있었습니다. <br>\n",
    "일반적인 결측치와 다르게 '?'로 표현되어있는 값들은 해당 컬럼의 최빈값으로 결측치 처리를 진행하겠습니다. <br>\n",
    "\n",
    "##### 범주형 변수의 경우 가장 간단하게 최빈값으로 결측치 처리를 할 수 있지만, 다른 컬럼을 필터링해서 결측치 처리를 할 수 있습니다. ex) education_num 등"
   ]
  },
  {
   "cell_type": "code",
   "execution_count": 12,
   "metadata": {
    "execution": {
     "iopub.execute_input": "2020-11-14T08:12:00.852273Z",
     "iopub.status.busy": "2020-11-14T08:12:00.851268Z",
     "iopub.status.idle": "2020-11-14T08:12:00.854297Z",
     "shell.execute_reply": "2020-11-14T08:12:00.853780Z"
    },
    "papermill": {
     "duration": 0.067033,
     "end_time": "2020-11-14T08:12:00.854406",
     "exception": false,
     "start_time": "2020-11-14T08:12:00.787373",
     "status": "completed"
    },
    "tags": []
   },
   "outputs": [],
   "source": [
    "has_na_columns = ['workclass', 'occupation', 'native_country']"
   ]
  },
  {
   "cell_type": "code",
   "execution_count": 13,
   "metadata": {
    "execution": {
     "iopub.execute_input": "2020-11-14T08:12:00.997774Z",
     "iopub.status.busy": "2020-11-14T08:12:00.996755Z",
     "iopub.status.idle": "2020-11-14T08:12:01.003720Z",
     "shell.execute_reply": "2020-11-14T08:12:01.003123Z"
    },
    "papermill": {
     "duration": 0.087416,
     "end_time": "2020-11-14T08:12:01.003829",
     "exception": false,
     "start_time": "2020-11-14T08:12:00.916413",
     "status": "completed"
    },
    "tags": []
   },
   "outputs": [
    {
     "data": {
      "text/plain": [
       "workclass         1502\n",
       "occupation        1508\n",
       "native_country     456\n",
       "dtype: int64"
      ]
     },
     "execution_count": 13,
     "metadata": {},
     "output_type": "execute_result"
    }
   ],
   "source": [
    "(tmp_train[has_na_columns] == '?').sum()"
   ]
  },
  {
   "cell_type": "code",
   "execution_count": 14,
   "metadata": {
    "execution": {
     "iopub.execute_input": "2020-11-14T08:12:01.147450Z",
     "iopub.status.busy": "2020-11-14T08:12:01.146551Z",
     "iopub.status.idle": "2020-11-14T08:12:01.164630Z",
     "shell.execute_reply": "2020-11-14T08:12:01.164133Z"
    },
    "papermill": {
     "duration": 0.101362,
     "end_time": "2020-11-14T08:12:01.164735",
     "exception": false,
     "start_time": "2020-11-14T08:12:01.063373",
     "status": "completed"
    },
    "tags": []
   },
   "outputs": [],
   "source": [
    "for c in has_na_columns:\n",
    "    tmp_train.loc[train[c] == '?', c] = train[c].mode()[0]\n",
    "    tmp_test.loc[test[c]   == '?', c] = test[c].mode()[0]"
   ]
  },
  {
   "cell_type": "code",
   "execution_count": 15,
   "metadata": {
    "execution": {
     "iopub.execute_input": "2020-11-14T08:12:01.303782Z",
     "iopub.status.busy": "2020-11-14T08:12:01.302752Z",
     "iopub.status.idle": "2020-11-14T08:12:01.310263Z",
     "shell.execute_reply": "2020-11-14T08:12:01.309588Z"
    },
    "papermill": {
     "duration": 0.086272,
     "end_time": "2020-11-14T08:12:01.310384",
     "exception": false,
     "start_time": "2020-11-14T08:12:01.224112",
     "status": "completed"
    },
    "tags": []
   },
   "outputs": [
    {
     "data": {
      "text/plain": [
       "workclass         0\n",
       "occupation        0\n",
       "native_country    0\n",
       "dtype: int64"
      ]
     },
     "execution_count": 15,
     "metadata": {},
     "output_type": "execute_result"
    }
   ],
   "source": [
    "(tmp_train[has_na_columns] == '?').sum()"
   ]
  },
  {
   "cell_type": "markdown",
   "metadata": {
    "papermill": {
     "duration": 0.059978,
     "end_time": "2020-11-14T08:12:01.430026",
     "exception": false,
     "start_time": "2020-11-14T08:12:01.370048",
     "status": "completed"
    },
    "tags": []
   },
   "source": [
    "#### 4) Log 변환\n",
    "capital_gain 변수와 capital_loss 변수의 분포가 한쪽으로 치우친 형태이므로 Log 변환을 통해 분포의 형태를 조정해주겠습니다."
   ]
  },
  {
   "cell_type": "code",
   "execution_count": 16,
   "metadata": {
    "execution": {
     "iopub.execute_input": "2020-11-14T08:12:01.554870Z",
     "iopub.status.busy": "2020-11-14T08:12:01.553984Z",
     "iopub.status.idle": "2020-11-14T08:12:01.856355Z",
     "shell.execute_reply": "2020-11-14T08:12:01.855353Z"
    },
    "papermill": {
     "duration": 0.367252,
     "end_time": "2020-11-14T08:12:01.856529",
     "exception": false,
     "start_time": "2020-11-14T08:12:01.489277",
     "status": "completed"
    },
    "tags": []
   },
   "outputs": [
    {
     "data": {
      "text/plain": [
       "<matplotlib.axes._subplots.AxesSubplot at 0x7ff810cbf450>"
      ]
     },
     "execution_count": 16,
     "metadata": {},
     "output_type": "execute_result"
    },
    {
     "data": {
      "image/png": "[encoded data removed]",
      "text/plain": [
       "<Figure size 432x288 with 1 Axes>"
      ]
     },
     "metadata": {
      "needs_background": "light"
     },
     "output_type": "display_data"
    }
   ],
   "source": [
    "tmp_train['capital_gain'].plot.hist()"
   ]
  },
  {
   "cell_type": "code",
   "execution_count": 17,
   "metadata": {
    "execution": {
     "iopub.execute_input": "2020-11-14T08:12:02.093793Z",
     "iopub.status.busy": "2020-11-14T08:12:02.092729Z",
     "iopub.status.idle": "2020-11-14T08:12:02.453487Z",
     "shell.execute_reply": "2020-11-14T08:12:02.452518Z"
    },
    "papermill": {
     "duration": 0.486997,
     "end_time": "2020-11-14T08:12:02.453669",
     "exception": false,
     "start_time": "2020-11-14T08:12:01.966672",
     "status": "completed"
    },
    "tags": []
   },
   "outputs": [
    {
     "data": {
      "text/plain": [
       "<matplotlib.axes._subplots.AxesSubplot at 0x7ff810a76b90>"
      ]
     },
     "execution_count": 17,
     "metadata": {},
     "output_type": "execute_result"
    },
    {
     "data": {
      "image/png": "[encoded data removed]",
      "text/plain": [
       "<Figure size 432x288 with 1 Axes>"
      ]
     },
     "metadata": {
      "needs_background": "light"
     },
     "output_type": "display_data"
    }
   ],
   "source": [
    "tmp_train['log_capital_gain'] = train['capital_gain'].map(lambda x : np.log(x) if x != 0 else 0)\n",
    "tmp_test['log_capital_gain']  = test['capital_gain'].map(lambda x : np.log(x) if x != 0 else 0)\n",
    "\n",
    "tmp_train['log_capital_gain'].plot.hist()"
   ]
  },
  {
   "cell_type": "code",
   "execution_count": 18,
   "metadata": {
    "execution": {
     "iopub.execute_input": "2020-11-14T08:12:02.690789Z",
     "iopub.status.busy": "2020-11-14T08:12:02.689661Z",
     "iopub.status.idle": "2020-11-14T08:12:02.940812Z",
     "shell.execute_reply": "2020-11-14T08:12:02.939926Z"
    },
    "papermill": {
     "duration": 0.380716,
     "end_time": "2020-11-14T08:12:02.940973",
     "exception": false,
     "start_time": "2020-11-14T08:12:02.560257",
     "status": "completed"
    },
    "tags": []
   },
   "outputs": [
    {
     "data": {
      "text/plain": [
       "<matplotlib.axes._subplots.AxesSubplot at 0x7ff810a0ee50>"
      ]
     },
     "execution_count": 18,
     "metadata": {},
     "output_type": "execute_result"
    },
    {
     "data": {
      "image/png": "[encoded data removed]",
      "text/plain": [
       "<Figure size 432x288 with 1 Axes>"
      ]
     },
     "metadata": {
      "needs_background": "light"
     },
     "output_type": "display_data"
    }
   ],
   "source": [
    "train['capital_loss'].plot.hist()"
   ]
  },
  {
   "cell_type": "code",
   "execution_count": 19,
   "metadata": {
    "execution": {
     "iopub.execute_input": "2020-11-14T08:12:03.175980Z",
     "iopub.status.busy": "2020-11-14T08:12:03.175066Z",
     "iopub.status.idle": "2020-11-14T08:12:03.395489Z",
     "shell.execute_reply": "2020-11-14T08:12:03.396330Z"
    },
    "papermill": {
     "duration": 0.374442,
     "end_time": "2020-11-14T08:12:03.396486",
     "exception": false,
     "start_time": "2020-11-14T08:12:03.022044",
     "status": "completed"
    },
    "tags": []
   },
   "outputs": [
    {
     "data": {
      "text/plain": [
       "<matplotlib.axes._subplots.AxesSubplot at 0x7ff8109823d0>"
      ]
     },
     "execution_count": 19,
     "metadata": {},
     "output_type": "execute_result"
    },
    {
     "data": {
      "image/png": "[encoded data removed]",
      "text/plain": [
       "<Figure size 432x288 with 1 Axes>"
      ]
     },
     "metadata": {
      "needs_background": "light"
     },
     "output_type": "display_data"
    }
   ],
   "source": [
    "tmp_train['log_capital_loss'] = train['capital_loss'].map(lambda x : np.log(x) if x != 0 else 0)\n",
    "tmp_test['log_capital_loss'] = test['capital_loss'].map(lambda x : np.log(x) if x != 0 else 0)\n",
    "\n",
    "tmp_train['log_capital_loss'].plot.hist()"
   ]
  },
  {
   "cell_type": "code",
   "execution_count": 20,
   "metadata": {
    "execution": {
     "iopub.execute_input": "2020-11-14T08:12:03.545100Z",
     "iopub.status.busy": "2020-11-14T08:12:03.544093Z",
     "iopub.status.idle": "2020-11-14T08:12:03.554693Z",
     "shell.execute_reply": "2020-11-14T08:12:03.554109Z"
    },
    "papermill": {
     "duration": 0.085994,
     "end_time": "2020-11-14T08:12:03.554803",
     "exception": false,
     "start_time": "2020-11-14T08:12:03.468809",
     "status": "completed"
    },
    "tags": []
   },
   "outputs": [],
   "source": [
    "tmp_train = tmp_train.drop(columns=['capital_loss', 'capital_gain'])\n",
    "tmp_test  = tmp_test.drop(columns=['capital_loss', 'capital_gain'])"
   ]
  },
  {
   "cell_type": "code",
   "execution_count": 21,
   "metadata": {
    "execution": {
     "iopub.execute_input": "2020-11-14T08:12:03.707931Z",
     "iopub.status.busy": "2020-11-14T08:12:03.706694Z",
     "iopub.status.idle": "2020-11-14T08:12:03.711230Z",
     "shell.execute_reply": "2020-11-14T08:12:03.711761Z"
    },
    "papermill": {
     "duration": 0.091781,
     "end_time": "2020-11-14T08:12:03.711917",
     "exception": false,
     "start_time": "2020-11-14T08:12:03.620136",
     "status": "completed"
    },
    "tags": []
   },
   "outputs": [
    {
     "data": {
      "text/html": [
       "<div>\n",
       "<style scoped>\n",
       "    .dataframe tbody tr th:only-of-type {\n",
       "        vertical-align: middle;\n",
       "    }\n",
       "\n",
       "    .dataframe tbody tr th {\n",
       "        vertical-align: top;\n",
       "    }\n",
       "\n",
       "    .dataframe thead th {\n",
       "        text-align: right;\n",
       "    }\n",
       "</style>\n",
       "<table border=\"1\" class=\"dataframe\">\n",
       "  <thead>\n",
       "    <tr style=\"text-align: right;\">\n",
       "      <th></th>\n",
       "      <th>age</th>\n",
       "      <th>workclass</th>\n",
       "      <th>fnlwgt</th>\n",
       "      <th>education</th>\n",
       "      <th>education_num</th>\n",
       "      <th>marital_status</th>\n",
       "      <th>occupation</th>\n",
       "      <th>relationship</th>\n",
       "      <th>race</th>\n",
       "      <th>sex</th>\n",
       "      <th>hours_per_week</th>\n",
       "      <th>native_country</th>\n",
       "      <th>log_capital_gain</th>\n",
       "      <th>log_capital_loss</th>\n",
       "    </tr>\n",
       "  </thead>\n",
       "  <tbody>\n",
       "    <tr>\n",
       "      <th>0</th>\n",
       "      <td>40</td>\n",
       "      <td>Private</td>\n",
       "      <td>168538</td>\n",
       "      <td>HS-grad</td>\n",
       "      <td>9</td>\n",
       "      <td>Married-civ-spouse</td>\n",
       "      <td>Sales</td>\n",
       "      <td>Husband</td>\n",
       "      <td>White</td>\n",
       "      <td>Male</td>\n",
       "      <td>60</td>\n",
       "      <td>United-States</td>\n",
       "      <td>0.0</td>\n",
       "      <td>0.0</td>\n",
       "    </tr>\n",
       "    <tr>\n",
       "      <th>1</th>\n",
       "      <td>17</td>\n",
       "      <td>Private</td>\n",
       "      <td>101626</td>\n",
       "      <td>9th</td>\n",
       "      <td>5</td>\n",
       "      <td>Never-married</td>\n",
       "      <td>Machine-op-inspct</td>\n",
       "      <td>Own-child</td>\n",
       "      <td>White</td>\n",
       "      <td>Male</td>\n",
       "      <td>20</td>\n",
       "      <td>United-States</td>\n",
       "      <td>0.0</td>\n",
       "      <td>0.0</td>\n",
       "    </tr>\n",
       "    <tr>\n",
       "      <th>2</th>\n",
       "      <td>18</td>\n",
       "      <td>Private</td>\n",
       "      <td>353358</td>\n",
       "      <td>Some-college</td>\n",
       "      <td>10</td>\n",
       "      <td>Never-married</td>\n",
       "      <td>Other-service</td>\n",
       "      <td>Own-child</td>\n",
       "      <td>White</td>\n",
       "      <td>Male</td>\n",
       "      <td>16</td>\n",
       "      <td>United-States</td>\n",
       "      <td>0.0</td>\n",
       "      <td>0.0</td>\n",
       "    </tr>\n",
       "    <tr>\n",
       "      <th>3</th>\n",
       "      <td>21</td>\n",
       "      <td>Private</td>\n",
       "      <td>151158</td>\n",
       "      <td>Some-college</td>\n",
       "      <td>10</td>\n",
       "      <td>Never-married</td>\n",
       "      <td>Prof-specialty</td>\n",
       "      <td>Own-child</td>\n",
       "      <td>White</td>\n",
       "      <td>Female</td>\n",
       "      <td>25</td>\n",
       "      <td>United-States</td>\n",
       "      <td>0.0</td>\n",
       "      <td>0.0</td>\n",
       "    </tr>\n",
       "    <tr>\n",
       "      <th>4</th>\n",
       "      <td>24</td>\n",
       "      <td>Private</td>\n",
       "      <td>122234</td>\n",
       "      <td>Some-college</td>\n",
       "      <td>10</td>\n",
       "      <td>Never-married</td>\n",
       "      <td>Adm-clerical</td>\n",
       "      <td>Not-in-family</td>\n",
       "      <td>Black</td>\n",
       "      <td>Female</td>\n",
       "      <td>20</td>\n",
       "      <td>United-States</td>\n",
       "      <td>0.0</td>\n",
       "      <td>0.0</td>\n",
       "    </tr>\n",
       "  </tbody>\n",
       "</table>\n",
       "</div>"
      ],
      "text/plain": [
       "   age workclass  fnlwgt     education  education_num      marital_status  \\\n",
       "0   40   Private  168538       HS-grad              9  Married-civ-spouse   \n",
       "1   17   Private  101626           9th              5       Never-married   \n",
       "2   18   Private  353358  Some-college             10       Never-married   \n",
       "3   21   Private  151158  Some-college             10       Never-married   \n",
       "4   24   Private  122234  Some-college             10       Never-married   \n",
       "\n",
       "          occupation   relationship   race     sex  hours_per_week  \\\n",
       "0              Sales        Husband  White    Male              60   \n",
       "1  Machine-op-inspct      Own-child  White    Male              20   \n",
       "2      Other-service      Own-child  White    Male              16   \n",
       "3     Prof-specialty      Own-child  White  Female              25   \n",
       "4       Adm-clerical  Not-in-family  Black  Female              20   \n",
       "\n",
       "  native_country  log_capital_gain  log_capital_loss  \n",
       "0  United-States               0.0               0.0  \n",
       "1  United-States               0.0               0.0  \n",
       "2  United-States               0.0               0.0  \n",
       "3  United-States               0.0               0.0  \n",
       "4  United-States               0.0               0.0  "
      ]
     },
     "execution_count": 21,
     "metadata": {},
     "output_type": "execute_result"
    }
   ],
   "source": [
    "tmp_train.head()"
   ]
  },
  {
   "cell_type": "markdown",
   "metadata": {
    "papermill": {
     "duration": 0.071234,
     "end_time": "2020-11-14T08:12:03.857923",
     "exception": false,
     "start_time": "2020-11-14T08:12:03.786689",
     "status": "completed"
    },
    "tags": []
   },
   "source": [
    "#### 5) 데이터 쪼개기\n",
    "##### 1. Train, Valid, Test Set\n",
    "* Train Data : 모델을 학습하는데 사용하는 데이터 (모델이 알고 있는 학습할 데이터, 과거 데이터)\n",
    "* Valid Data : 학습한 모델의 성능을 검증하는 데이터 (모델이 모르는 학습하지 않을 데이터, 모델 검증에 사용하는 데이터, 과거 데이터)\n",
    "* Test Data : 학습한 모델로 예측할 데이터 (모델이 모르는 예측할 데이터, 미래 데이터)"
   ]
  },
  {
   "cell_type": "markdown",
   "metadata": {
    "papermill": {
     "duration": 0.07595,
     "end_time": "2020-11-14T08:12:04.006614",
     "exception": false,
     "start_time": "2020-11-14T08:12:03.930664",
     "status": "completed"
    },
    "tags": []
   },
   "source": [
    "##### 데이터 쪼개기, Train -> (Train, Valid)\n",
    "- train_test_split 파라미터 \n",
    "    - test_size  (float): Valid(test)의 크기의 비율을 지정\n",
    "    - random_state (int): 데이터를 쪼갤 때 내부적으로 사용되는 난수 값 (해당 값을 지정하지 않으면 매번 달라집니다.)\n",
    "    - shuffle     (bool): 데이터를 쪼갤 때 섞을지 유무\n",
    "    - stratify   (array): Stratify란, 쪼개기 이전의 클래스 비율을 쪼개고 나서도 유지하기 위해 설정해야하는 값입니다. 클래스 라벨을 넣어주면 됩니다.\n",
    "        - ex) 원본 Train 데이터의 클래스 비율이 (7:3) 이었다면, 쪼개어진 Train, Valid(test) 데이터의 클래스 비율도 (7:3)이 됩니다. 당연히 분류 데이터에서만 사용할 수 있습니다."
   ]
  },
  {
   "cell_type": "code",
   "execution_count": 22,
   "metadata": {
    "execution": {
     "iopub.execute_input": "2020-11-14T08:12:04.155219Z",
     "iopub.status.busy": "2020-11-14T08:12:04.154409Z",
     "iopub.status.idle": "2020-11-14T08:12:05.130972Z",
     "shell.execute_reply": "2020-11-14T08:12:05.130294Z"
    },
    "papermill": {
     "duration": 1.052028,
     "end_time": "2020-11-14T08:12:05.131100",
     "exception": false,
     "start_time": "2020-11-14T08:12:04.079072",
     "status": "completed"
    },
    "tags": []
   },
   "outputs": [],
   "source": [
    "from sklearn.model_selection import train_test_split\n",
    "\n",
    "tmp_train, tmp_valid, y_train, y_valid = train_test_split(tmp_train, label, \n",
    "                                                          test_size=0.3,\n",
    "                                                          random_state=2020,\n",
    "                                                          shuffle=True,\n",
    "                                                          stratify=label)"
   ]
  },
  {
   "cell_type": "code",
   "execution_count": 23,
   "metadata": {
    "execution": {
     "iopub.execute_input": "2020-11-14T08:12:05.270424Z",
     "iopub.status.busy": "2020-11-14T08:12:05.269477Z",
     "iopub.status.idle": "2020-11-14T08:12:05.276744Z",
     "shell.execute_reply": "2020-11-14T08:12:05.276236Z"
    },
    "papermill": {
     "duration": 0.081067,
     "end_time": "2020-11-14T08:12:05.276885",
     "exception": false,
     "start_time": "2020-11-14T08:12:05.195818",
     "status": "completed"
    },
    "tags": []
   },
   "outputs": [],
   "source": [
    "# 인덱스 초기화\n",
    "tmp_train = tmp_train.reset_index(drop=True)\n",
    "tmp_valid = tmp_valid.reset_index(drop=True)\n",
    "tmp_test  = tmp_test.reset_index(drop=True)"
   ]
  },
  {
   "cell_type": "markdown",
   "metadata": {
    "papermill": {
     "duration": 0.06399,
     "end_time": "2020-11-14T08:12:05.408050",
     "exception": false,
     "start_time": "2020-11-14T08:12:05.344060",
     "status": "completed"
    },
    "tags": []
   },
   "source": [
    "#### 6) 스케일링\n",
    "Scikit-learn 라이브러리에 있는 Standard Scaler를 사용해서 수치형 변수들의 표준화를 진행하겠습니다."
   ]
  },
  {
   "cell_type": "code",
   "execution_count": 24,
   "metadata": {
    "execution": {
     "iopub.execute_input": "2020-11-14T08:12:05.547117Z",
     "iopub.status.busy": "2020-11-14T08:12:05.546331Z",
     "iopub.status.idle": "2020-11-14T08:12:05.551226Z",
     "shell.execute_reply": "2020-11-14T08:12:05.550698Z"
    },
    "papermill": {
     "duration": 0.077512,
     "end_time": "2020-11-14T08:12:05.551337",
     "exception": false,
     "start_time": "2020-11-14T08:12:05.473825",
     "status": "completed"
    },
    "tags": []
   },
   "outputs": [
    {
     "data": {
      "text/plain": [
       "Index(['age', 'workclass', 'fnlwgt', 'education', 'education_num',\n",
       "       'marital_status', 'occupation', 'relationship', 'race', 'sex',\n",
       "       'hours_per_week', 'native_country', 'log_capital_gain',\n",
       "       'log_capital_loss'],\n",
       "      dtype='object')"
      ]
     },
     "execution_count": 24,
     "metadata": {},
     "output_type": "execute_result"
    }
   ],
   "source": [
    "tmp_train.columns"
   ]
  },
  {
   "cell_type": "markdown",
   "metadata": {
    "papermill": {
     "duration": 0.065553,
     "end_time": "2020-11-14T08:12:05.683912",
     "exception": false,
     "start_time": "2020-11-14T08:12:05.618359",
     "status": "completed"
    },
    "tags": []
   },
   "source": [
    "c를 가지고 list 만들것 묶은 것에서 t=='O'"
   ]
  },
  {
   "cell_type": "code",
   "execution_count": 25,
   "metadata": {
    "execution": {
     "iopub.execute_input": "2020-11-14T08:12:05.823950Z",
     "iopub.status.busy": "2020-11-14T08:12:05.823246Z",
     "iopub.status.idle": "2020-11-14T08:12:05.826879Z",
     "shell.execute_reply": "2020-11-14T08:12:05.827580Z"
    },
    "papermill": {
     "duration": 0.077861,
     "end_time": "2020-11-14T08:12:05.827743",
     "exception": false,
     "start_time": "2020-11-14T08:12:05.749882",
     "status": "completed"
    },
    "tags": []
   },
   "outputs": [
    {
     "name": "stdout",
     "output_type": "stream",
     "text": [
      "범주형 변수: \n",
      "['workclass', 'education', 'marital_status', 'occupation', 'relationship', 'race', 'sex', 'native_country']\n",
      "\n",
      " 수치형 변수: \n",
      "['age', 'fnlwgt', 'education_num', 'hours_per_week', 'log_capital_gain', 'log_capital_loss']\n",
      "\n"
     ]
    }
   ],
   "source": [
    "cat_columns = [c for c, t in zip(tmp_train.dtypes.index, tmp_train.dtypes) if t == 'O'] \n",
    "num_columns = [c for c in tmp_train.columns if c not in cat_columns]\n",
    "\n",
    "print('범주형 변수: \\n{}\\n\\n 수치형 변수: \\n{}\\n'.format(cat_columns, num_columns))"
   ]
  },
  {
   "cell_type": "code",
   "execution_count": 26,
   "metadata": {
    "execution": {
     "iopub.execute_input": "2020-11-14T08:12:06.025433Z",
     "iopub.status.busy": "2020-11-14T08:12:06.024252Z",
     "iopub.status.idle": "2020-11-14T08:12:06.098770Z",
     "shell.execute_reply": "2020-11-14T08:12:06.098224Z"
    },
    "papermill": {
     "duration": 0.196627,
     "end_time": "2020-11-14T08:12:06.098883",
     "exception": false,
     "start_time": "2020-11-14T08:12:05.902256",
     "status": "completed"
    },
    "tags": []
   },
   "outputs": [],
   "source": [
    "from sklearn.preprocessing import StandardScaler\n",
    "\n",
    "scaler = StandardScaler()\n",
    "tmp_train[num_columns] = scaler.fit_transform(tmp_train[num_columns])\n",
    "tmp_valid[num_columns] = scaler.transform(tmp_valid[num_columns])\n",
    "tmp_test[num_columns]  = scaler.transform(tmp_test[num_columns])"
   ]
  },
  {
   "cell_type": "code",
   "execution_count": 27,
   "metadata": {
    "execution": {
     "iopub.execute_input": "2020-11-14T08:12:06.242955Z",
     "iopub.status.busy": "2020-11-14T08:12:06.241757Z",
     "iopub.status.idle": "2020-11-14T08:12:06.277362Z",
     "shell.execute_reply": "2020-11-14T08:12:06.277961Z"
    },
    "papermill": {
     "duration": 0.111589,
     "end_time": "2020-11-14T08:12:06.278127",
     "exception": false,
     "start_time": "2020-11-14T08:12:06.166538",
     "status": "completed"
    },
    "tags": []
   },
   "outputs": [
    {
     "data": {
      "text/html": [
       "<div>\n",
       "<style scoped>\n",
       "    .dataframe tbody tr th:only-of-type {\n",
       "        vertical-align: middle;\n",
       "    }\n",
       "\n",
       "    .dataframe tbody tr th {\n",
       "        vertical-align: top;\n",
       "    }\n",
       "\n",
       "    .dataframe thead th {\n",
       "        text-align: right;\n",
       "    }\n",
       "</style>\n",
       "<table border=\"1\" class=\"dataframe\">\n",
       "  <thead>\n",
       "    <tr style=\"text-align: right;\">\n",
       "      <th></th>\n",
       "      <th>age</th>\n",
       "      <th>fnlwgt</th>\n",
       "      <th>education_num</th>\n",
       "      <th>hours_per_week</th>\n",
       "      <th>log_capital_gain</th>\n",
       "      <th>log_capital_loss</th>\n",
       "    </tr>\n",
       "  </thead>\n",
       "  <tbody>\n",
       "    <tr>\n",
       "      <th>count</th>\n",
       "      <td>1.823400e+04</td>\n",
       "      <td>1.823400e+04</td>\n",
       "      <td>1.823400e+04</td>\n",
       "      <td>1.823400e+04</td>\n",
       "      <td>1.823400e+04</td>\n",
       "      <td>1.823400e+04</td>\n",
       "    </tr>\n",
       "    <tr>\n",
       "      <th>mean</th>\n",
       "      <td>-1.353712e-16</td>\n",
       "      <td>-3.069949e-17</td>\n",
       "      <td>2.664255e-16</td>\n",
       "      <td>4.398370e-16</td>\n",
       "      <td>-1.446012e-15</td>\n",
       "      <td>3.109830e-17</td>\n",
       "    </tr>\n",
       "    <tr>\n",
       "      <th>std</th>\n",
       "      <td>1.000027e+00</td>\n",
       "      <td>1.000027e+00</td>\n",
       "      <td>1.000027e+00</td>\n",
       "      <td>1.000027e+00</td>\n",
       "      <td>1.000027e+00</td>\n",
       "      <td>1.000027e+00</td>\n",
       "    </tr>\n",
       "    <tr>\n",
       "      <th>min</th>\n",
       "      <td>-1.575121e+00</td>\n",
       "      <td>-1.661651e+00</td>\n",
       "      <td>-3.549168e+00</td>\n",
       "      <td>-3.175259e+00</td>\n",
       "      <td>-3.032959e-01</td>\n",
       "      <td>-2.209828e-01</td>\n",
       "    </tr>\n",
       "    <tr>\n",
       "      <th>25%</th>\n",
       "      <td>-8.441270e-01</td>\n",
       "      <td>-6.773644e-01</td>\n",
       "      <td>-4.287495e-01</td>\n",
       "      <td>-3.725226e-02</td>\n",
       "      <td>-3.032959e-01</td>\n",
       "      <td>-2.209828e-01</td>\n",
       "    </tr>\n",
       "    <tr>\n",
       "      <th>50%</th>\n",
       "      <td>-1.131329e-01</td>\n",
       "      <td>-1.055421e-01</td>\n",
       "      <td>-3.869719e-02</td>\n",
       "      <td>-3.725226e-02</td>\n",
       "      <td>-3.032959e-01</td>\n",
       "      <td>-2.209828e-01</td>\n",
       "    </tr>\n",
       "    <tr>\n",
       "      <th>75%</th>\n",
       "      <td>6.909606e-01</td>\n",
       "      <td>4.466872e-01</td>\n",
       "      <td>1.131460e+00</td>\n",
       "      <td>3.650563e-01</td>\n",
       "      <td>-3.032959e-01</td>\n",
       "      <td>-2.209828e-01</td>\n",
       "    </tr>\n",
       "    <tr>\n",
       "      <th>max</th>\n",
       "      <td>3.761136e+00</td>\n",
       "      <td>1.188097e+01</td>\n",
       "      <td>2.301616e+00</td>\n",
       "      <td>4.709988e+00</td>\n",
       "      <td>4.326449e+00</td>\n",
       "      <td>5.071417e+00</td>\n",
       "    </tr>\n",
       "  </tbody>\n",
       "</table>\n",
       "</div>"
      ],
      "text/plain": [
       "                age        fnlwgt  education_num  hours_per_week  \\\n",
       "count  1.823400e+04  1.823400e+04   1.823400e+04    1.823400e+04   \n",
       "mean  -1.353712e-16 -3.069949e-17   2.664255e-16    4.398370e-16   \n",
       "std    1.000027e+00  1.000027e+00   1.000027e+00    1.000027e+00   \n",
       "min   -1.575121e+00 -1.661651e+00  -3.549168e+00   -3.175259e+00   \n",
       "25%   -8.441270e-01 -6.773644e-01  -4.287495e-01   -3.725226e-02   \n",
       "50%   -1.131329e-01 -1.055421e-01  -3.869719e-02   -3.725226e-02   \n",
       "75%    6.909606e-01  4.466872e-01   1.131460e+00    3.650563e-01   \n",
       "max    3.761136e+00  1.188097e+01   2.301616e+00    4.709988e+00   \n",
       "\n",
       "       log_capital_gain  log_capital_loss  \n",
       "count      1.823400e+04      1.823400e+04  \n",
       "mean      -1.446012e-15      3.109830e-17  \n",
       "std        1.000027e+00      1.000027e+00  \n",
       "min       -3.032959e-01     -2.209828e-01  \n",
       "25%       -3.032959e-01     -2.209828e-01  \n",
       "50%       -3.032959e-01     -2.209828e-01  \n",
       "75%       -3.032959e-01     -2.209828e-01  \n",
       "max        4.326449e+00      5.071417e+00  "
      ]
     },
     "execution_count": 27,
     "metadata": {},
     "output_type": "execute_result"
    }
   ],
   "source": [
    "tmp_train.describe()"
   ]
  },
  {
   "cell_type": "code",
   "execution_count": 28,
   "metadata": {
    "execution": {
     "iopub.execute_input": "2020-11-14T08:12:06.430715Z",
     "iopub.status.busy": "2020-11-14T08:12:06.429598Z",
     "iopub.status.idle": "2020-11-14T08:12:06.460762Z",
     "shell.execute_reply": "2020-11-14T08:12:06.461284Z"
    },
    "papermill": {
     "duration": 0.107707,
     "end_time": "2020-11-14T08:12:06.461433",
     "exception": false,
     "start_time": "2020-11-14T08:12:06.353726",
     "status": "completed"
    },
    "tags": []
   },
   "outputs": [
    {
     "data": {
      "text/html": [
       "<div>\n",
       "<style scoped>\n",
       "    .dataframe tbody tr th:only-of-type {\n",
       "        vertical-align: middle;\n",
       "    }\n",
       "\n",
       "    .dataframe tbody tr th {\n",
       "        vertical-align: top;\n",
       "    }\n",
       "\n",
       "    .dataframe thead th {\n",
       "        text-align: right;\n",
       "    }\n",
       "</style>\n",
       "<table border=\"1\" class=\"dataframe\">\n",
       "  <thead>\n",
       "    <tr style=\"text-align: right;\">\n",
       "      <th></th>\n",
       "      <th>age</th>\n",
       "      <th>fnlwgt</th>\n",
       "      <th>education_num</th>\n",
       "      <th>hours_per_week</th>\n",
       "      <th>log_capital_gain</th>\n",
       "      <th>log_capital_loss</th>\n",
       "    </tr>\n",
       "  </thead>\n",
       "  <tbody>\n",
       "    <tr>\n",
       "      <th>count</th>\n",
       "      <td>7815.000000</td>\n",
       "      <td>7815.000000</td>\n",
       "      <td>7815.000000</td>\n",
       "      <td>7815.000000</td>\n",
       "      <td>7815.000000</td>\n",
       "      <td>7815.000000</td>\n",
       "    </tr>\n",
       "    <tr>\n",
       "      <th>mean</th>\n",
       "      <td>0.005257</td>\n",
       "      <td>-0.011081</td>\n",
       "      <td>-0.014091</td>\n",
       "      <td>-0.005325</td>\n",
       "      <td>-0.014643</td>\n",
       "      <td>0.006928</td>\n",
       "    </tr>\n",
       "    <tr>\n",
       "      <th>std</th>\n",
       "      <td>0.997915</td>\n",
       "      <td>0.984603</td>\n",
       "      <td>1.004929</td>\n",
       "      <td>0.982061</td>\n",
       "      <td>0.975637</td>\n",
       "      <td>1.014457</td>\n",
       "    </tr>\n",
       "    <tr>\n",
       "      <th>min</th>\n",
       "      <td>-1.575121</td>\n",
       "      <td>-1.614138</td>\n",
       "      <td>-3.549168</td>\n",
       "      <td>-3.175259</td>\n",
       "      <td>-0.303296</td>\n",
       "      <td>-0.220983</td>\n",
       "    </tr>\n",
       "    <tr>\n",
       "      <th>25%</th>\n",
       "      <td>-0.771028</td>\n",
       "      <td>-0.686258</td>\n",
       "      <td>-0.428749</td>\n",
       "      <td>-0.037252</td>\n",
       "      <td>-0.303296</td>\n",
       "      <td>-0.220983</td>\n",
       "    </tr>\n",
       "    <tr>\n",
       "      <th>50%</th>\n",
       "      <td>-0.113133</td>\n",
       "      <td>-0.119802</td>\n",
       "      <td>-0.038697</td>\n",
       "      <td>-0.037252</td>\n",
       "      <td>-0.303296</td>\n",
       "      <td>-0.220983</td>\n",
       "    </tr>\n",
       "    <tr>\n",
       "      <th>75%</th>\n",
       "      <td>0.690961</td>\n",
       "      <td>0.431563</td>\n",
       "      <td>0.741407</td>\n",
       "      <td>0.365056</td>\n",
       "      <td>-0.303296</td>\n",
       "      <td>-0.220983</td>\n",
       "    </tr>\n",
       "    <tr>\n",
       "      <th>max</th>\n",
       "      <td>3.761136</td>\n",
       "      <td>12.155926</td>\n",
       "      <td>2.301616</td>\n",
       "      <td>4.709988</td>\n",
       "      <td>4.326449</td>\n",
       "      <td>4.980164</td>\n",
       "    </tr>\n",
       "  </tbody>\n",
       "</table>\n",
       "</div>"
      ],
      "text/plain": [
       "               age       fnlwgt  education_num  hours_per_week  \\\n",
       "count  7815.000000  7815.000000    7815.000000     7815.000000   \n",
       "mean      0.005257    -0.011081      -0.014091       -0.005325   \n",
       "std       0.997915     0.984603       1.004929        0.982061   \n",
       "min      -1.575121    -1.614138      -3.549168       -3.175259   \n",
       "25%      -0.771028    -0.686258      -0.428749       -0.037252   \n",
       "50%      -0.113133    -0.119802      -0.038697       -0.037252   \n",
       "75%       0.690961     0.431563       0.741407        0.365056   \n",
       "max       3.761136    12.155926       2.301616        4.709988   \n",
       "\n",
       "       log_capital_gain  log_capital_loss  \n",
       "count       7815.000000       7815.000000  \n",
       "mean          -0.014643          0.006928  \n",
       "std            0.975637          1.014457  \n",
       "min           -0.303296         -0.220983  \n",
       "25%           -0.303296         -0.220983  \n",
       "50%           -0.303296         -0.220983  \n",
       "75%           -0.303296         -0.220983  \n",
       "max            4.326449          4.980164  "
      ]
     },
     "execution_count": 28,
     "metadata": {},
     "output_type": "execute_result"
    }
   ],
   "source": [
    "tmp_valid.describe()"
   ]
  },
  {
   "cell_type": "code",
   "execution_count": 29,
   "metadata": {
    "execution": {
     "iopub.execute_input": "2020-11-14T08:12:06.606386Z",
     "iopub.status.busy": "2020-11-14T08:12:06.605645Z",
     "iopub.status.idle": "2020-11-14T08:12:06.638678Z",
     "shell.execute_reply": "2020-11-14T08:12:06.638071Z"
    },
    "papermill": {
     "duration": 0.107929,
     "end_time": "2020-11-14T08:12:06.638803",
     "exception": false,
     "start_time": "2020-11-14T08:12:06.530874",
     "status": "completed"
    },
    "tags": []
   },
   "outputs": [
    {
     "data": {
      "text/html": [
       "<div>\n",
       "<style scoped>\n",
       "    .dataframe tbody tr th:only-of-type {\n",
       "        vertical-align: middle;\n",
       "    }\n",
       "\n",
       "    .dataframe tbody tr th {\n",
       "        vertical-align: top;\n",
       "    }\n",
       "\n",
       "    .dataframe thead th {\n",
       "        text-align: right;\n",
       "    }\n",
       "</style>\n",
       "<table border=\"1\" class=\"dataframe\">\n",
       "  <thead>\n",
       "    <tr style=\"text-align: right;\">\n",
       "      <th></th>\n",
       "      <th>age</th>\n",
       "      <th>fnlwgt</th>\n",
       "      <th>education_num</th>\n",
       "      <th>hours_per_week</th>\n",
       "      <th>log_capital_gain</th>\n",
       "      <th>log_capital_loss</th>\n",
       "    </tr>\n",
       "  </thead>\n",
       "  <tbody>\n",
       "    <tr>\n",
       "      <th>count</th>\n",
       "      <td>6512.000000</td>\n",
       "      <td>6512.000000</td>\n",
       "      <td>6512.000000</td>\n",
       "      <td>6512.000000</td>\n",
       "      <td>6512.000000</td>\n",
       "      <td>6512.000000</td>\n",
       "    </tr>\n",
       "    <tr>\n",
       "      <th>mean</th>\n",
       "      <td>0.006114</td>\n",
       "      <td>-0.028036</td>\n",
       "      <td>-0.019231</td>\n",
       "      <td>-0.003879</td>\n",
       "      <td>-0.021865</td>\n",
       "      <td>-0.007044</td>\n",
       "    </tr>\n",
       "    <tr>\n",
       "      <th>std</th>\n",
       "      <td>0.988042</td>\n",
       "      <td>0.975533</td>\n",
       "      <td>1.011418</td>\n",
       "      <td>0.988914</td>\n",
       "      <td>0.964069</td>\n",
       "      <td>0.986211</td>\n",
       "    </tr>\n",
       "    <tr>\n",
       "      <th>min</th>\n",
       "      <td>-1.575121</td>\n",
       "      <td>-1.675592</td>\n",
       "      <td>-3.549168</td>\n",
       "      <td>-3.175259</td>\n",
       "      <td>-0.303296</td>\n",
       "      <td>-0.220983</td>\n",
       "    </tr>\n",
       "    <tr>\n",
       "      <th>25%</th>\n",
       "      <td>-0.771028</td>\n",
       "      <td>-0.696584</td>\n",
       "      <td>-0.428749</td>\n",
       "      <td>-0.037252</td>\n",
       "      <td>-0.303296</td>\n",
       "      <td>-0.220983</td>\n",
       "    </tr>\n",
       "    <tr>\n",
       "      <th>50%</th>\n",
       "      <td>-0.113133</td>\n",
       "      <td>-0.129412</td>\n",
       "      <td>-0.038697</td>\n",
       "      <td>-0.037252</td>\n",
       "      <td>-0.303296</td>\n",
       "      <td>-0.220983</td>\n",
       "    </tr>\n",
       "    <tr>\n",
       "      <th>75%</th>\n",
       "      <td>0.690961</td>\n",
       "      <td>0.424525</td>\n",
       "      <td>0.741407</td>\n",
       "      <td>0.365056</td>\n",
       "      <td>-0.303296</td>\n",
       "      <td>-0.220983</td>\n",
       "    </tr>\n",
       "    <tr>\n",
       "      <th>max</th>\n",
       "      <td>3.761136</td>\n",
       "      <td>8.782713</td>\n",
       "      <td>2.301616</td>\n",
       "      <td>4.709988</td>\n",
       "      <td>4.326449</td>\n",
       "      <td>5.071417</td>\n",
       "    </tr>\n",
       "  </tbody>\n",
       "</table>\n",
       "</div>"
      ],
      "text/plain": [
       "               age       fnlwgt  education_num  hours_per_week  \\\n",
       "count  6512.000000  6512.000000    6512.000000     6512.000000   \n",
       "mean      0.006114    -0.028036      -0.019231       -0.003879   \n",
       "std       0.988042     0.975533       1.011418        0.988914   \n",
       "min      -1.575121    -1.675592      -3.549168       -3.175259   \n",
       "25%      -0.771028    -0.696584      -0.428749       -0.037252   \n",
       "50%      -0.113133    -0.129412      -0.038697       -0.037252   \n",
       "75%       0.690961     0.424525       0.741407        0.365056   \n",
       "max       3.761136     8.782713       2.301616        4.709988   \n",
       "\n",
       "       log_capital_gain  log_capital_loss  \n",
       "count       6512.000000       6512.000000  \n",
       "mean          -0.021865         -0.007044  \n",
       "std            0.964069          0.986211  \n",
       "min           -0.303296         -0.220983  \n",
       "25%           -0.303296         -0.220983  \n",
       "50%           -0.303296         -0.220983  \n",
       "75%           -0.303296         -0.220983  \n",
       "max            4.326449          5.071417  "
      ]
     },
     "execution_count": 29,
     "metadata": {},
     "output_type": "execute_result"
    }
   ],
   "source": [
    "tmp_test.describe()"
   ]
  },
  {
   "cell_type": "markdown",
   "metadata": {
    "papermill": {
     "duration": 0.07093,
     "end_time": "2020-11-14T08:12:06.788901",
     "exception": false,
     "start_time": "2020-11-14T08:12:06.717971",
     "status": "completed"
    },
    "tags": []
   },
   "source": [
    "#### 6) 인코딩\n",
    "범주형 변수를 수치형 변수로 인코딩 하겠습니다. 범주형 변수에는 Onehot Encoding을 적용합니다."
   ]
  },
  {
   "cell_type": "code",
   "execution_count": 30,
   "metadata": {
    "execution": {
     "iopub.execute_input": "2020-11-14T08:12:06.934821Z",
     "iopub.status.busy": "2020-11-14T08:12:06.933746Z",
     "iopub.status.idle": "2020-11-14T08:12:06.991693Z",
     "shell.execute_reply": "2020-11-14T08:12:06.992269Z"
    },
    "papermill": {
     "duration": 0.133531,
     "end_time": "2020-11-14T08:12:06.992432",
     "exception": false,
     "start_time": "2020-11-14T08:12:06.858901",
     "status": "completed"
    },
    "tags": []
   },
   "outputs": [
    {
     "data": {
      "text/plain": [
       "OneHotEncoder(sparse=False)"
      ]
     },
     "execution_count": 30,
     "metadata": {},
     "output_type": "execute_result"
    }
   ],
   "source": [
    "from sklearn.preprocessing import OneHotEncoder, LabelEncoder\n",
    "\n",
    "tmp_all = pd.concat([tmp_train, tmp_valid, tmp_test])\n",
    "\n",
    "ohe = OneHotEncoder(sparse=False)\n",
    "ohe.fit(tmp_all[cat_columns])"
   ]
  },
  {
   "cell_type": "code",
   "execution_count": 31,
   "metadata": {
    "execution": {
     "iopub.execute_input": "2020-11-14T08:12:07.140077Z",
     "iopub.status.busy": "2020-11-14T08:12:07.139076Z",
     "iopub.status.idle": "2020-11-14T08:12:07.159479Z",
     "shell.execute_reply": "2020-11-14T08:12:07.158956Z"
    },
    "papermill": {
     "duration": 0.096082,
     "end_time": "2020-11-14T08:12:07.159592",
     "exception": false,
     "start_time": "2020-11-14T08:12:07.063510",
     "status": "completed"
    },
    "tags": []
   },
   "outputs": [
    {
     "data": {
      "text/html": [
       "<div>\n",
       "<style scoped>\n",
       "    .dataframe tbody tr th:only-of-type {\n",
       "        vertical-align: middle;\n",
       "    }\n",
       "\n",
       "    .dataframe tbody tr th {\n",
       "        vertical-align: top;\n",
       "    }\n",
       "\n",
       "    .dataframe thead th {\n",
       "        text-align: right;\n",
       "    }\n",
       "</style>\n",
       "<table border=\"1\" class=\"dataframe\">\n",
       "  <thead>\n",
       "    <tr style=\"text-align: right;\">\n",
       "      <th></th>\n",
       "      <th>workclass</th>\n",
       "      <th>education</th>\n",
       "      <th>marital_status</th>\n",
       "      <th>occupation</th>\n",
       "      <th>relationship</th>\n",
       "      <th>race</th>\n",
       "      <th>sex</th>\n",
       "      <th>native_country</th>\n",
       "    </tr>\n",
       "  </thead>\n",
       "  <tbody>\n",
       "    <tr>\n",
       "      <th>0</th>\n",
       "      <td>Private</td>\n",
       "      <td>Some-college</td>\n",
       "      <td>Married-civ-spouse</td>\n",
       "      <td>Craft-repair</td>\n",
       "      <td>Husband</td>\n",
       "      <td>White</td>\n",
       "      <td>Male</td>\n",
       "      <td>United-States</td>\n",
       "    </tr>\n",
       "    <tr>\n",
       "      <th>1</th>\n",
       "      <td>Private</td>\n",
       "      <td>Some-college</td>\n",
       "      <td>Never-married</td>\n",
       "      <td>Transport-moving</td>\n",
       "      <td>Unmarried</td>\n",
       "      <td>Black</td>\n",
       "      <td>Female</td>\n",
       "      <td>United-States</td>\n",
       "    </tr>\n",
       "    <tr>\n",
       "      <th>2</th>\n",
       "      <td>Private</td>\n",
       "      <td>Some-college</td>\n",
       "      <td>Married-civ-spouse</td>\n",
       "      <td>Sales</td>\n",
       "      <td>Husband</td>\n",
       "      <td>White</td>\n",
       "      <td>Male</td>\n",
       "      <td>United-States</td>\n",
       "    </tr>\n",
       "    <tr>\n",
       "      <th>3</th>\n",
       "      <td>Private</td>\n",
       "      <td>Some-college</td>\n",
       "      <td>Married-civ-spouse</td>\n",
       "      <td>Prof-specialty</td>\n",
       "      <td>Husband</td>\n",
       "      <td>White</td>\n",
       "      <td>Male</td>\n",
       "      <td>United-States</td>\n",
       "    </tr>\n",
       "    <tr>\n",
       "      <th>4</th>\n",
       "      <td>Private</td>\n",
       "      <td>HS-grad</td>\n",
       "      <td>Never-married</td>\n",
       "      <td>Machine-op-inspct</td>\n",
       "      <td>Own-child</td>\n",
       "      <td>White</td>\n",
       "      <td>Male</td>\n",
       "      <td>United-States</td>\n",
       "    </tr>\n",
       "    <tr>\n",
       "      <th>...</th>\n",
       "      <td>...</td>\n",
       "      <td>...</td>\n",
       "      <td>...</td>\n",
       "      <td>...</td>\n",
       "      <td>...</td>\n",
       "      <td>...</td>\n",
       "      <td>...</td>\n",
       "      <td>...</td>\n",
       "    </tr>\n",
       "    <tr>\n",
       "      <th>6507</th>\n",
       "      <td>Private</td>\n",
       "      <td>Bachelors</td>\n",
       "      <td>Married-civ-spouse</td>\n",
       "      <td>Sales</td>\n",
       "      <td>Husband</td>\n",
       "      <td>White</td>\n",
       "      <td>Male</td>\n",
       "      <td>United-States</td>\n",
       "    </tr>\n",
       "    <tr>\n",
       "      <th>6508</th>\n",
       "      <td>Self-emp-inc</td>\n",
       "      <td>Bachelors</td>\n",
       "      <td>Married-civ-spouse</td>\n",
       "      <td>Tech-support</td>\n",
       "      <td>Husband</td>\n",
       "      <td>White</td>\n",
       "      <td>Male</td>\n",
       "      <td>United-States</td>\n",
       "    </tr>\n",
       "    <tr>\n",
       "      <th>6509</th>\n",
       "      <td>Private</td>\n",
       "      <td>5th-6th</td>\n",
       "      <td>Married-civ-spouse</td>\n",
       "      <td>Other-service</td>\n",
       "      <td>Husband</td>\n",
       "      <td>White</td>\n",
       "      <td>Male</td>\n",
       "      <td>Mexico</td>\n",
       "    </tr>\n",
       "    <tr>\n",
       "      <th>6510</th>\n",
       "      <td>Private</td>\n",
       "      <td>HS-grad</td>\n",
       "      <td>Married-civ-spouse</td>\n",
       "      <td>Craft-repair</td>\n",
       "      <td>Husband</td>\n",
       "      <td>White</td>\n",
       "      <td>Male</td>\n",
       "      <td>United-States</td>\n",
       "    </tr>\n",
       "    <tr>\n",
       "      <th>6511</th>\n",
       "      <td>Private</td>\n",
       "      <td>HS-grad</td>\n",
       "      <td>Divorced</td>\n",
       "      <td>Handlers-cleaners</td>\n",
       "      <td>Unmarried</td>\n",
       "      <td>White</td>\n",
       "      <td>Female</td>\n",
       "      <td>United-States</td>\n",
       "    </tr>\n",
       "  </tbody>\n",
       "</table>\n",
       "<p>32561 rows × 8 columns</p>\n",
       "</div>"
      ],
      "text/plain": [
       "         workclass     education      marital_status         occupation  \\\n",
       "0          Private  Some-college  Married-civ-spouse       Craft-repair   \n",
       "1          Private  Some-college       Never-married   Transport-moving   \n",
       "2          Private  Some-college  Married-civ-spouse              Sales   \n",
       "3          Private  Some-college  Married-civ-spouse     Prof-specialty   \n",
       "4          Private       HS-grad       Never-married  Machine-op-inspct   \n",
       "...            ...           ...                 ...                ...   \n",
       "6507       Private     Bachelors  Married-civ-spouse              Sales   \n",
       "6508  Self-emp-inc     Bachelors  Married-civ-spouse       Tech-support   \n",
       "6509       Private       5th-6th  Married-civ-spouse      Other-service   \n",
       "6510       Private       HS-grad  Married-civ-spouse       Craft-repair   \n",
       "6511       Private       HS-grad            Divorced  Handlers-cleaners   \n",
       "\n",
       "     relationship   race     sex native_country  \n",
       "0         Husband  White    Male  United-States  \n",
       "1       Unmarried  Black  Female  United-States  \n",
       "2         Husband  White    Male  United-States  \n",
       "3         Husband  White    Male  United-States  \n",
       "4       Own-child  White    Male  United-States  \n",
       "...           ...    ...     ...            ...  \n",
       "6507      Husband  White    Male  United-States  \n",
       "6508      Husband  White    Male  United-States  \n",
       "6509      Husband  White    Male         Mexico  \n",
       "6510      Husband  White    Male  United-States  \n",
       "6511    Unmarried  White  Female  United-States  \n",
       "\n",
       "[32561 rows x 8 columns]"
      ]
     },
     "execution_count": 31,
     "metadata": {},
     "output_type": "execute_result"
    }
   ],
   "source": [
    "tmp_all[cat_columns]"
   ]
  },
  {
   "cell_type": "code",
   "execution_count": 32,
   "metadata": {
    "execution": {
     "iopub.execute_input": "2020-11-14T08:12:07.321271Z",
     "iopub.status.busy": "2020-11-14T08:12:07.320412Z",
     "iopub.status.idle": "2020-11-14T08:12:07.324364Z",
     "shell.execute_reply": "2020-11-14T08:12:07.323676Z"
    },
    "papermill": {
     "duration": 0.093724,
     "end_time": "2020-11-14T08:12:07.324480",
     "exception": false,
     "start_time": "2020-11-14T08:12:07.230756",
     "status": "completed"
    },
    "tags": []
   },
   "outputs": [],
   "source": [
    "ohe_columns = list()\n",
    "for lst in ohe.categories_:\n",
    "    ohe_columns += lst.tolist()"
   ]
  },
  {
   "cell_type": "code",
   "execution_count": 33,
   "metadata": {
    "execution": {
     "iopub.execute_input": "2020-11-14T08:12:07.481332Z",
     "iopub.status.busy": "2020-11-14T08:12:07.480678Z",
     "iopub.status.idle": "2020-11-14T08:12:07.573330Z",
     "shell.execute_reply": "2020-11-14T08:12:07.572755Z"
    },
    "papermill": {
     "duration": 0.177112,
     "end_time": "2020-11-14T08:12:07.573442",
     "exception": false,
     "start_time": "2020-11-14T08:12:07.396330",
     "status": "completed"
    },
    "tags": []
   },
   "outputs": [
    {
     "data": {
      "text/plain": [
       "(18234, 99)"
      ]
     },
     "execution_count": 33,
     "metadata": {},
     "output_type": "execute_result"
    }
   ],
   "source": [
    "ohe.transform(tmp_train[cat_columns]).shape"
   ]
  },
  {
   "cell_type": "code",
   "execution_count": 34,
   "metadata": {
    "execution": {
     "iopub.execute_input": "2020-11-14T08:12:07.736056Z",
     "iopub.status.busy": "2020-11-14T08:12:07.735117Z",
     "iopub.status.idle": "2020-11-14T08:12:07.872887Z",
     "shell.execute_reply": "2020-11-14T08:12:07.872282Z"
    },
    "papermill": {
     "duration": 0.227445,
     "end_time": "2020-11-14T08:12:07.873000",
     "exception": false,
     "start_time": "2020-11-14T08:12:07.645555",
     "status": "completed"
    },
    "tags": []
   },
   "outputs": [],
   "source": [
    "new_train_cat = pd.DataFrame(ohe.transform(tmp_train[cat_columns]), columns=ohe_columns)\n",
    "new_valid_cat = pd.DataFrame(ohe.transform(tmp_valid[cat_columns]), columns=ohe_columns)\n",
    "new_test_cat  = pd.DataFrame(ohe.transform(tmp_test[cat_columns]), columns=ohe_columns)"
   ]
  },
  {
   "cell_type": "code",
   "execution_count": 35,
   "metadata": {
    "execution": {
     "iopub.execute_input": "2020-11-14T08:12:08.055535Z",
     "iopub.status.busy": "2020-11-14T08:12:08.054309Z",
     "iopub.status.idle": "2020-11-14T08:12:08.058955Z",
     "shell.execute_reply": "2020-11-14T08:12:08.059695Z"
    },
    "papermill": {
     "duration": 0.114127,
     "end_time": "2020-11-14T08:12:08.059873",
     "exception": false,
     "start_time": "2020-11-14T08:12:07.945746",
     "status": "completed"
    },
    "tags": []
   },
   "outputs": [
    {
     "data": {
      "text/html": [
       "<div>\n",
       "<style scoped>\n",
       "    .dataframe tbody tr th:only-of-type {\n",
       "        vertical-align: middle;\n",
       "    }\n",
       "\n",
       "    .dataframe tbody tr th {\n",
       "        vertical-align: top;\n",
       "    }\n",
       "\n",
       "    .dataframe thead th {\n",
       "        text-align: right;\n",
       "    }\n",
       "</style>\n",
       "<table border=\"1\" class=\"dataframe\">\n",
       "  <thead>\n",
       "    <tr style=\"text-align: right;\">\n",
       "      <th></th>\n",
       "      <th>Federal-gov</th>\n",
       "      <th>Local-gov</th>\n",
       "      <th>Never-worked</th>\n",
       "      <th>Private</th>\n",
       "      <th>Self-emp-inc</th>\n",
       "      <th>Self-emp-not-inc</th>\n",
       "      <th>State-gov</th>\n",
       "      <th>Without-pay</th>\n",
       "      <th>10th</th>\n",
       "      <th>11th</th>\n",
       "      <th>...</th>\n",
       "      <th>Portugal</th>\n",
       "      <th>Puerto-Rico</th>\n",
       "      <th>Scotland</th>\n",
       "      <th>South</th>\n",
       "      <th>Taiwan</th>\n",
       "      <th>Thailand</th>\n",
       "      <th>Trinadad&amp;Tobago</th>\n",
       "      <th>United-States</th>\n",
       "      <th>Vietnam</th>\n",
       "      <th>Yugoslavia</th>\n",
       "    </tr>\n",
       "  </thead>\n",
       "  <tbody>\n",
       "    <tr>\n",
       "      <th>0</th>\n",
       "      <td>0.0</td>\n",
       "      <td>0.0</td>\n",
       "      <td>0.0</td>\n",
       "      <td>1.0</td>\n",
       "      <td>0.0</td>\n",
       "      <td>0.0</td>\n",
       "      <td>0.0</td>\n",
       "      <td>0.0</td>\n",
       "      <td>0.0</td>\n",
       "      <td>0.0</td>\n",
       "      <td>...</td>\n",
       "      <td>0.0</td>\n",
       "      <td>0.0</td>\n",
       "      <td>0.0</td>\n",
       "      <td>0.0</td>\n",
       "      <td>0.0</td>\n",
       "      <td>0.0</td>\n",
       "      <td>0.0</td>\n",
       "      <td>1.0</td>\n",
       "      <td>0.0</td>\n",
       "      <td>0.0</td>\n",
       "    </tr>\n",
       "    <tr>\n",
       "      <th>1</th>\n",
       "      <td>0.0</td>\n",
       "      <td>0.0</td>\n",
       "      <td>0.0</td>\n",
       "      <td>1.0</td>\n",
       "      <td>0.0</td>\n",
       "      <td>0.0</td>\n",
       "      <td>0.0</td>\n",
       "      <td>0.0</td>\n",
       "      <td>0.0</td>\n",
       "      <td>0.0</td>\n",
       "      <td>...</td>\n",
       "      <td>0.0</td>\n",
       "      <td>0.0</td>\n",
       "      <td>0.0</td>\n",
       "      <td>0.0</td>\n",
       "      <td>0.0</td>\n",
       "      <td>0.0</td>\n",
       "      <td>0.0</td>\n",
       "      <td>1.0</td>\n",
       "      <td>0.0</td>\n",
       "      <td>0.0</td>\n",
       "    </tr>\n",
       "    <tr>\n",
       "      <th>2</th>\n",
       "      <td>0.0</td>\n",
       "      <td>0.0</td>\n",
       "      <td>0.0</td>\n",
       "      <td>1.0</td>\n",
       "      <td>0.0</td>\n",
       "      <td>0.0</td>\n",
       "      <td>0.0</td>\n",
       "      <td>0.0</td>\n",
       "      <td>0.0</td>\n",
       "      <td>0.0</td>\n",
       "      <td>...</td>\n",
       "      <td>0.0</td>\n",
       "      <td>0.0</td>\n",
       "      <td>0.0</td>\n",
       "      <td>0.0</td>\n",
       "      <td>0.0</td>\n",
       "      <td>0.0</td>\n",
       "      <td>0.0</td>\n",
       "      <td>1.0</td>\n",
       "      <td>0.0</td>\n",
       "      <td>0.0</td>\n",
       "    </tr>\n",
       "    <tr>\n",
       "      <th>3</th>\n",
       "      <td>0.0</td>\n",
       "      <td>0.0</td>\n",
       "      <td>0.0</td>\n",
       "      <td>1.0</td>\n",
       "      <td>0.0</td>\n",
       "      <td>0.0</td>\n",
       "      <td>0.0</td>\n",
       "      <td>0.0</td>\n",
       "      <td>0.0</td>\n",
       "      <td>0.0</td>\n",
       "      <td>...</td>\n",
       "      <td>0.0</td>\n",
       "      <td>0.0</td>\n",
       "      <td>0.0</td>\n",
       "      <td>0.0</td>\n",
       "      <td>0.0</td>\n",
       "      <td>0.0</td>\n",
       "      <td>0.0</td>\n",
       "      <td>1.0</td>\n",
       "      <td>0.0</td>\n",
       "      <td>0.0</td>\n",
       "    </tr>\n",
       "    <tr>\n",
       "      <th>4</th>\n",
       "      <td>0.0</td>\n",
       "      <td>0.0</td>\n",
       "      <td>0.0</td>\n",
       "      <td>1.0</td>\n",
       "      <td>0.0</td>\n",
       "      <td>0.0</td>\n",
       "      <td>0.0</td>\n",
       "      <td>0.0</td>\n",
       "      <td>0.0</td>\n",
       "      <td>0.0</td>\n",
       "      <td>...</td>\n",
       "      <td>0.0</td>\n",
       "      <td>0.0</td>\n",
       "      <td>0.0</td>\n",
       "      <td>0.0</td>\n",
       "      <td>0.0</td>\n",
       "      <td>0.0</td>\n",
       "      <td>0.0</td>\n",
       "      <td>1.0</td>\n",
       "      <td>0.0</td>\n",
       "      <td>0.0</td>\n",
       "    </tr>\n",
       "  </tbody>\n",
       "</table>\n",
       "<p>5 rows × 99 columns</p>\n",
       "</div>"
      ],
      "text/plain": [
       "   Federal-gov  Local-gov  Never-worked  Private  Self-emp-inc  \\\n",
       "0          0.0        0.0           0.0      1.0           0.0   \n",
       "1          0.0        0.0           0.0      1.0           0.0   \n",
       "2          0.0        0.0           0.0      1.0           0.0   \n",
       "3          0.0        0.0           0.0      1.0           0.0   \n",
       "4          0.0        0.0           0.0      1.0           0.0   \n",
       "\n",
       "   Self-emp-not-inc  State-gov  Without-pay  10th  11th  ...  Portugal  \\\n",
       "0               0.0        0.0          0.0   0.0   0.0  ...       0.0   \n",
       "1               0.0        0.0          0.0   0.0   0.0  ...       0.0   \n",
       "2               0.0        0.0          0.0   0.0   0.0  ...       0.0   \n",
       "3               0.0        0.0          0.0   0.0   0.0  ...       0.0   \n",
       "4               0.0        0.0          0.0   0.0   0.0  ...       0.0   \n",
       "\n",
       "   Puerto-Rico  Scotland  South  Taiwan  Thailand  Trinadad&Tobago  \\\n",
       "0          0.0       0.0    0.0     0.0       0.0              0.0   \n",
       "1          0.0       0.0    0.0     0.0       0.0              0.0   \n",
       "2          0.0       0.0    0.0     0.0       0.0              0.0   \n",
       "3          0.0       0.0    0.0     0.0       0.0              0.0   \n",
       "4          0.0       0.0    0.0     0.0       0.0              0.0   \n",
       "\n",
       "   United-States  Vietnam  Yugoslavia  \n",
       "0            1.0      0.0         0.0  \n",
       "1            1.0      0.0         0.0  \n",
       "2            1.0      0.0         0.0  \n",
       "3            1.0      0.0         0.0  \n",
       "4            1.0      0.0         0.0  \n",
       "\n",
       "[5 rows x 99 columns]"
      ]
     },
     "execution_count": 35,
     "metadata": {},
     "output_type": "execute_result"
    }
   ],
   "source": [
    "new_train_cat.head()"
   ]
  },
  {
   "cell_type": "code",
   "execution_count": 36,
   "metadata": {
    "execution": {
     "iopub.execute_input": "2020-11-14T08:12:08.228253Z",
     "iopub.status.busy": "2020-11-14T08:12:08.227419Z",
     "iopub.status.idle": "2020-11-14T08:12:08.230714Z",
     "shell.execute_reply": "2020-11-14T08:12:08.231293Z"
    },
    "papermill": {
     "duration": 0.084822,
     "end_time": "2020-11-14T08:12:08.231436",
     "exception": false,
     "start_time": "2020-11-14T08:12:08.146614",
     "status": "completed"
    },
    "tags": []
   },
   "outputs": [
    {
     "data": {
      "text/plain": [
       "['workclass',\n",
       " 'education',\n",
       " 'marital_status',\n",
       " 'occupation',\n",
       " 'relationship',\n",
       " 'race',\n",
       " 'sex',\n",
       " 'native_country']"
      ]
     },
     "execution_count": 36,
     "metadata": {},
     "output_type": "execute_result"
    }
   ],
   "source": [
    "cat_columns"
   ]
  },
  {
   "cell_type": "code",
   "execution_count": 37,
   "metadata": {
    "execution": {
     "iopub.execute_input": "2020-11-14T08:12:08.398727Z",
     "iopub.status.busy": "2020-11-14T08:12:08.395879Z",
     "iopub.status.idle": "2020-11-14T08:12:08.464438Z",
     "shell.execute_reply": "2020-11-14T08:12:08.463888Z"
    },
    "papermill": {
     "duration": 0.153739,
     "end_time": "2020-11-14T08:12:08.464552",
     "exception": false,
     "start_time": "2020-11-14T08:12:08.310813",
     "status": "completed"
    },
    "tags": []
   },
   "outputs": [],
   "source": [
    "tmp_train = pd.concat([tmp_train, new_train_cat], axis=1)\n",
    "tmp_valid = pd.concat([tmp_valid, new_valid_cat], axis=1)\n",
    "tmp_test = pd.concat([tmp_test, new_test_cat], axis=1)\n",
    "\n",
    "# 기존 범주형 변수 제거\n",
    "tmp_train = tmp_train.drop(columns=cat_columns)\n",
    "tmp_valid = tmp_valid.drop(columns=cat_columns)\n",
    "tmp_test = tmp_test.drop(columns=cat_columns)"
   ]
  },
  {
   "cell_type": "code",
   "execution_count": 38,
   "metadata": {
    "execution": {
     "iopub.execute_input": "2020-11-14T08:12:08.641810Z",
     "iopub.status.busy": "2020-11-14T08:12:08.640118Z",
     "iopub.status.idle": "2020-11-14T08:12:08.645342Z",
     "shell.execute_reply": "2020-11-14T08:12:08.645940Z"
    },
    "papermill": {
     "duration": 0.108658,
     "end_time": "2020-11-14T08:12:08.646082",
     "exception": false,
     "start_time": "2020-11-14T08:12:08.537424",
     "status": "completed"
    },
    "tags": []
   },
   "outputs": [
    {
     "data": {
      "text/html": [
       "<div>\n",
       "<style scoped>\n",
       "    .dataframe tbody tr th:only-of-type {\n",
       "        vertical-align: middle;\n",
       "    }\n",
       "\n",
       "    .dataframe tbody tr th {\n",
       "        vertical-align: top;\n",
       "    }\n",
       "\n",
       "    .dataframe thead th {\n",
       "        text-align: right;\n",
       "    }\n",
       "</style>\n",
       "<table border=\"1\" class=\"dataframe\">\n",
       "  <thead>\n",
       "    <tr style=\"text-align: right;\">\n",
       "      <th></th>\n",
       "      <th>age</th>\n",
       "      <th>fnlwgt</th>\n",
       "      <th>education_num</th>\n",
       "      <th>hours_per_week</th>\n",
       "      <th>log_capital_gain</th>\n",
       "      <th>log_capital_loss</th>\n",
       "      <th>Federal-gov</th>\n",
       "      <th>Local-gov</th>\n",
       "      <th>Never-worked</th>\n",
       "      <th>Private</th>\n",
       "      <th>...</th>\n",
       "      <th>Portugal</th>\n",
       "      <th>Puerto-Rico</th>\n",
       "      <th>Scotland</th>\n",
       "      <th>South</th>\n",
       "      <th>Taiwan</th>\n",
       "      <th>Thailand</th>\n",
       "      <th>Trinadad&amp;Tobago</th>\n",
       "      <th>United-States</th>\n",
       "      <th>Vietnam</th>\n",
       "      <th>Yugoslavia</th>\n",
       "    </tr>\n",
       "  </thead>\n",
       "  <tbody>\n",
       "    <tr>\n",
       "      <th>0</th>\n",
       "      <td>0.325464</td>\n",
       "      <td>2.763660</td>\n",
       "      <td>-0.038697</td>\n",
       "      <td>-0.198176</td>\n",
       "      <td>3.038414</td>\n",
       "      <td>-0.220983</td>\n",
       "      <td>0.0</td>\n",
       "      <td>0.0</td>\n",
       "      <td>0.0</td>\n",
       "      <td>1.0</td>\n",
       "      <td>...</td>\n",
       "      <td>0.0</td>\n",
       "      <td>0.0</td>\n",
       "      <td>0.0</td>\n",
       "      <td>0.0</td>\n",
       "      <td>0.0</td>\n",
       "      <td>0.0</td>\n",
       "      <td>0.0</td>\n",
       "      <td>1.0</td>\n",
       "      <td>0.0</td>\n",
       "      <td>0.0</td>\n",
       "    </tr>\n",
       "    <tr>\n",
       "      <th>1</th>\n",
       "      <td>0.252364</td>\n",
       "      <td>-0.527452</td>\n",
       "      <td>-0.038697</td>\n",
       "      <td>-0.037252</td>\n",
       "      <td>-0.303296</td>\n",
       "      <td>-0.220983</td>\n",
       "      <td>0.0</td>\n",
       "      <td>0.0</td>\n",
       "      <td>0.0</td>\n",
       "      <td>1.0</td>\n",
       "      <td>...</td>\n",
       "      <td>0.0</td>\n",
       "      <td>0.0</td>\n",
       "      <td>0.0</td>\n",
       "      <td>0.0</td>\n",
       "      <td>0.0</td>\n",
       "      <td>0.0</td>\n",
       "      <td>0.0</td>\n",
       "      <td>1.0</td>\n",
       "      <td>0.0</td>\n",
       "      <td>0.0</td>\n",
       "    </tr>\n",
       "    <tr>\n",
       "      <th>2</th>\n",
       "      <td>0.106165</td>\n",
       "      <td>-0.130971</td>\n",
       "      <td>-0.038697</td>\n",
       "      <td>-0.037252</td>\n",
       "      <td>-0.303296</td>\n",
       "      <td>-0.220983</td>\n",
       "      <td>0.0</td>\n",
       "      <td>0.0</td>\n",
       "      <td>0.0</td>\n",
       "      <td>1.0</td>\n",
       "      <td>...</td>\n",
       "      <td>0.0</td>\n",
       "      <td>0.0</td>\n",
       "      <td>0.0</td>\n",
       "      <td>0.0</td>\n",
       "      <td>0.0</td>\n",
       "      <td>0.0</td>\n",
       "      <td>0.0</td>\n",
       "      <td>1.0</td>\n",
       "      <td>0.0</td>\n",
       "      <td>0.0</td>\n",
       "    </tr>\n",
       "    <tr>\n",
       "      <th>3</th>\n",
       "      <td>-0.697928</td>\n",
       "      <td>0.321262</td>\n",
       "      <td>-0.038697</td>\n",
       "      <td>0.365056</td>\n",
       "      <td>-0.303296</td>\n",
       "      <td>-0.220983</td>\n",
       "      <td>0.0</td>\n",
       "      <td>0.0</td>\n",
       "      <td>0.0</td>\n",
       "      <td>1.0</td>\n",
       "      <td>...</td>\n",
       "      <td>0.0</td>\n",
       "      <td>0.0</td>\n",
       "      <td>0.0</td>\n",
       "      <td>0.0</td>\n",
       "      <td>0.0</td>\n",
       "      <td>0.0</td>\n",
       "      <td>0.0</td>\n",
       "      <td>1.0</td>\n",
       "      <td>0.0</td>\n",
       "      <td>0.0</td>\n",
       "    </tr>\n",
       "    <tr>\n",
       "      <th>4</th>\n",
       "      <td>-1.282723</td>\n",
       "      <td>-0.447108</td>\n",
       "      <td>-0.428749</td>\n",
       "      <td>-0.037252</td>\n",
       "      <td>-0.303296</td>\n",
       "      <td>-0.220983</td>\n",
       "      <td>0.0</td>\n",
       "      <td>0.0</td>\n",
       "      <td>0.0</td>\n",
       "      <td>1.0</td>\n",
       "      <td>...</td>\n",
       "      <td>0.0</td>\n",
       "      <td>0.0</td>\n",
       "      <td>0.0</td>\n",
       "      <td>0.0</td>\n",
       "      <td>0.0</td>\n",
       "      <td>0.0</td>\n",
       "      <td>0.0</td>\n",
       "      <td>1.0</td>\n",
       "      <td>0.0</td>\n",
       "      <td>0.0</td>\n",
       "    </tr>\n",
       "  </tbody>\n",
       "</table>\n",
       "<p>5 rows × 105 columns</p>\n",
       "</div>"
      ],
      "text/plain": [
       "        age    fnlwgt  education_num  hours_per_week  log_capital_gain  \\\n",
       "0  0.325464  2.763660      -0.038697       -0.198176          3.038414   \n",
       "1  0.252364 -0.527452      -0.038697       -0.037252         -0.303296   \n",
       "2  0.106165 -0.130971      -0.038697       -0.037252         -0.303296   \n",
       "3 -0.697928  0.321262      -0.038697        0.365056         -0.303296   \n",
       "4 -1.282723 -0.447108      -0.428749       -0.037252         -0.303296   \n",
       "\n",
       "   log_capital_loss  Federal-gov  Local-gov  Never-worked  Private  ...  \\\n",
       "0         -0.220983          0.0        0.0           0.0      1.0  ...   \n",
       "1         -0.220983          0.0        0.0           0.0      1.0  ...   \n",
       "2         -0.220983          0.0        0.0           0.0      1.0  ...   \n",
       "3         -0.220983          0.0        0.0           0.0      1.0  ...   \n",
       "4         -0.220983          0.0        0.0           0.0      1.0  ...   \n",
       "\n",
       "   Portugal  Puerto-Rico  Scotland  South  Taiwan  Thailand  Trinadad&Tobago  \\\n",
       "0       0.0          0.0       0.0    0.0     0.0       0.0              0.0   \n",
       "1       0.0          0.0       0.0    0.0     0.0       0.0              0.0   \n",
       "2       0.0          0.0       0.0    0.0     0.0       0.0              0.0   \n",
       "3       0.0          0.0       0.0    0.0     0.0       0.0              0.0   \n",
       "4       0.0          0.0       0.0    0.0     0.0       0.0              0.0   \n",
       "\n",
       "   United-States  Vietnam  Yugoslavia  \n",
       "0            1.0      0.0         0.0  \n",
       "1            1.0      0.0         0.0  \n",
       "2            1.0      0.0         0.0  \n",
       "3            1.0      0.0         0.0  \n",
       "4            1.0      0.0         0.0  \n",
       "\n",
       "[5 rows x 105 columns]"
      ]
     },
     "execution_count": 38,
     "metadata": {},
     "output_type": "execute_result"
    }
   ],
   "source": [
    "tmp_train.head()"
   ]
  },
  {
   "cell_type": "code",
   "execution_count": 39,
   "metadata": {
    "execution": {
     "iopub.execute_input": "2020-11-14T08:12:08.812726Z",
     "iopub.status.busy": "2020-11-14T08:12:08.811857Z",
     "iopub.status.idle": "2020-11-14T08:12:08.815787Z",
     "shell.execute_reply": "2020-11-14T08:12:08.815276Z"
    },
    "papermill": {
     "duration": 0.084073,
     "end_time": "2020-11-14T08:12:08.815890",
     "exception": false,
     "start_time": "2020-11-14T08:12:08.731817",
     "status": "completed"
    },
    "tags": []
   },
   "outputs": [],
   "source": [
    "tmp_y_train = y_train\n",
    "tmp_y_valid = y_valid"
   ]
  },
  {
   "cell_type": "markdown",
   "metadata": {
    "papermill": {
     "duration": 0.075856,
     "end_time": "2020-11-14T08:12:08.967697",
     "exception": false,
     "start_time": "2020-11-14T08:12:08.891841",
     "status": "completed"
    },
    "tags": []
   },
   "source": [
    "### 2. Scikit-Learn 분류 모델 사용해보기\n",
    "Scikit-Learn의 기본 분류 모델을 사용해보겠습니다. <br>\n",
    "각 모델의 평가 메트릭은 대회 평가 메트릭인 f1_score를 사용합니다."
   ]
  },
  {
   "cell_type": "code",
   "execution_count": 40,
   "metadata": {
    "execution": {
     "iopub.execute_input": "2020-11-14T08:12:09.133476Z",
     "iopub.status.busy": "2020-11-14T08:12:09.132675Z",
     "iopub.status.idle": "2020-11-14T08:12:12.007449Z",
     "shell.execute_reply": "2020-11-14T08:12:12.006225Z"
    },
    "papermill": {
     "duration": 2.959108,
     "end_time": "2020-11-14T08:12:12.007578",
     "exception": false,
     "start_time": "2020-11-14T08:12:09.048470",
     "status": "completed"
    },
    "tags": []
   },
   "outputs": [],
   "source": [
    "from sklearn.linear_model import LogisticRegression\n",
    "from sklearn.svm import SVC\n",
    "from sklearn.ensemble import RandomForestClassifier\n",
    "from xgboost import XGBClassifier\n",
    "from lightgbm import LGBMClassifier\n",
    "\n",
    "from sklearn.metrics import f1_score"
   ]
  },
  {
   "cell_type": "markdown",
   "metadata": {
    "papermill": {
     "duration": 0.077074,
     "end_time": "2020-11-14T08:12:12.161651",
     "exception": false,
     "start_time": "2020-11-14T08:12:12.084577",
     "status": "completed"
    },
    "tags": []
   },
   "source": [
    "#### 1) 로지스틱 회귀 모델"
   ]
  },
  {
   "cell_type": "code",
   "execution_count": 41,
   "metadata": {
    "execution": {
     "iopub.execute_input": "2020-11-14T08:12:12.329972Z",
     "iopub.status.busy": "2020-11-14T08:12:12.323993Z",
     "iopub.status.idle": "2020-11-14T08:12:12.743425Z",
     "shell.execute_reply": "2020-11-14T08:12:12.744194Z"
    },
    "papermill": {
     "duration": 0.505132,
     "end_time": "2020-11-14T08:12:12.744409",
     "exception": false,
     "start_time": "2020-11-14T08:12:12.239277",
     "status": "completed"
    },
    "tags": []
   },
   "outputs": [
    {
     "name": "stdout",
     "output_type": "stream",
     "text": [
      "Logistic Regression F1 Score: 0.8474728087012157\n"
     ]
    }
   ],
   "source": [
    "lr = LogisticRegression()\n",
    "\n",
    "lr.fit(tmp_train, tmp_y_train)\n",
    "\n",
    "y_pred = lr.predict(tmp_valid)\n",
    "\n",
    "print(f\"Logistic Regression F1 Score: {f1_score(tmp_y_valid, y_pred, average='micro')}\")"
   ]
  },
  {
   "cell_type": "markdown",
   "metadata": {
    "papermill": {
     "duration": 0.088023,
     "end_time": "2020-11-14T08:12:12.908819",
     "exception": false,
     "start_time": "2020-11-14T08:12:12.820796",
     "status": "completed"
    },
    "tags": []
   },
   "source": [
    "#### 2) 서포트 벡터 머신(rbf 커널)"
   ]
  },
  {
   "cell_type": "code",
   "execution_count": 42,
   "metadata": {
    "execution": {
     "iopub.execute_input": "2020-11-14T08:12:13.148657Z",
     "iopub.status.busy": "2020-11-14T08:12:13.147690Z",
     "iopub.status.idle": "2020-11-14T08:12:13.272141Z",
     "shell.execute_reply": "2020-11-14T08:12:13.273717Z"
    },
    "papermill": {
     "duration": 0.244978,
     "end_time": "2020-11-14T08:12:13.273928",
     "exception": false,
     "start_time": "2020-11-14T08:12:13.028950",
     "status": "completed"
    },
    "tags": []
   },
   "outputs": [],
   "source": [
    "SVC?"
   ]
  },
  {
   "cell_type": "code",
   "execution_count": 43,
   "metadata": {
    "execution": {
     "iopub.execute_input": "2020-11-14T08:12:13.558064Z",
     "iopub.status.busy": "2020-11-14T08:12:13.557144Z",
     "iopub.status.idle": "2020-11-14T08:12:50.466092Z",
     "shell.execute_reply": "2020-11-14T08:12:50.466951Z"
    },
    "papermill": {
     "duration": 37.045819,
     "end_time": "2020-11-14T08:12:50.467131",
     "exception": false,
     "start_time": "2020-11-14T08:12:13.421312",
     "status": "completed"
    },
    "tags": []
   },
   "outputs": [
    {
     "name": "stdout",
     "output_type": "stream",
     "text": [
      "Support Vector Machine F1 Score: 0.8551503518873961\n"
     ]
    }
   ],
   "source": [
    "svc = SVC()\n",
    "\n",
    "svc.fit(tmp_train, tmp_y_train)\n",
    "\n",
    "y_pred = svc.predict(tmp_valid)\n",
    "\n",
    "print(f\"Support Vector Machine F1 Score: {f1_score(tmp_y_valid, y_pred, average='micro')}\")"
   ]
  },
  {
   "cell_type": "markdown",
   "metadata": {
    "papermill": {
     "duration": 0.075308,
     "end_time": "2020-11-14T08:12:50.621725",
     "exception": false,
     "start_time": "2020-11-14T08:12:50.546417",
     "status": "completed"
    },
    "tags": []
   },
   "source": [
    "#### 3) 랜덤 포레스트"
   ]
  },
  {
   "cell_type": "code",
   "execution_count": 44,
   "metadata": {
    "execution": {
     "iopub.execute_input": "2020-11-14T08:12:50.782135Z",
     "iopub.status.busy": "2020-11-14T08:12:50.780985Z",
     "iopub.status.idle": "2020-11-14T08:12:53.626086Z",
     "shell.execute_reply": "2020-11-14T08:12:53.626906Z"
    },
    "papermill": {
     "duration": 2.931111,
     "end_time": "2020-11-14T08:12:53.627052",
     "exception": false,
     "start_time": "2020-11-14T08:12:50.695941",
     "status": "completed"
    },
    "tags": []
   },
   "outputs": [
    {
     "name": "stdout",
     "output_type": "stream",
     "text": [
      "RandomForest F1 Score: 0.8532309660908509\n"
     ]
    }
   ],
   "source": [
    "rf = RandomForestClassifier()\n",
    "\n",
    "rf.fit(tmp_train, tmp_y_train)\n",
    "\n",
    "y_pred = rf.predict(tmp_valid)\n",
    "\n",
    "print(f\"RandomForest F1 Score: {f1_score(tmp_y_valid, y_pred, average='micro')}\")"
   ]
  },
  {
   "cell_type": "markdown",
   "metadata": {
    "papermill": {
     "duration": 0.075811,
     "end_time": "2020-11-14T08:12:53.779314",
     "exception": false,
     "start_time": "2020-11-14T08:12:53.703503",
     "status": "completed"
    },
    "tags": []
   },
   "source": [
    "#### 4) XGBoost"
   ]
  },
  {
   "cell_type": "code",
   "execution_count": 45,
   "metadata": {
    "execution": {
     "iopub.execute_input": "2020-11-14T08:12:53.943662Z",
     "iopub.status.busy": "2020-11-14T08:12:53.942704Z",
     "iopub.status.idle": "2020-11-14T08:12:55.615236Z",
     "shell.execute_reply": "2020-11-14T08:12:55.615976Z"
    },
    "papermill": {
     "duration": 1.756055,
     "end_time": "2020-11-14T08:12:55.616153",
     "exception": false,
     "start_time": "2020-11-14T08:12:53.860098",
     "status": "completed"
    },
    "tags": []
   },
   "outputs": [
    {
     "name": "stdout",
     "output_type": "stream",
     "text": [
      "XGBoost F1 Score: 0.8678182981445938\n"
     ]
    }
   ],
   "source": [
    "xgb = XGBClassifier(tree_method='gpu_hist')\n",
    "\n",
    "xgb.fit(tmp_train, tmp_y_train)\n",
    "\n",
    "y_pred = xgb.predict(tmp_valid)\n",
    "\n",
    "print(f\"XGBoost F1 Score: {f1_score(tmp_y_valid, y_pred, average='micro')}\")"
   ]
  },
  {
   "cell_type": "markdown",
   "metadata": {
    "papermill": {
     "duration": 0.089558,
     "end_time": "2020-11-14T08:12:55.816536",
     "exception": false,
     "start_time": "2020-11-14T08:12:55.726978",
     "status": "completed"
    },
    "tags": []
   },
   "source": [
    "#### 5) LightGBM"
   ]
  },
  {
   "cell_type": "code",
   "execution_count": 46,
   "metadata": {
    "execution": {
     "iopub.execute_input": "2020-11-14T08:12:55.979143Z",
     "iopub.status.busy": "2020-11-14T08:12:55.978078Z",
     "iopub.status.idle": "2020-11-14T08:12:56.434924Z",
     "shell.execute_reply": "2020-11-14T08:12:56.434144Z"
    },
    "papermill": {
     "duration": 0.539167,
     "end_time": "2020-11-14T08:12:56.435050",
     "exception": false,
     "start_time": "2020-11-14T08:12:55.895883",
     "status": "completed"
    },
    "tags": []
   },
   "outputs": [
    {
     "name": "stdout",
     "output_type": "stream",
     "text": [
      "LightGBM F1 Score: 0.8689699296225208\n"
     ]
    }
   ],
   "source": [
    "lgb = LGBMClassifier(tree_method='gpu_hist')\n",
    "\n",
    "lgb.fit(tmp_train, tmp_y_train)\n",
    "\n",
    "y_pred = lgb.predict(tmp_valid)\n",
    "\n",
    "print(f\"LightGBM F1 Score: {f1_score(tmp_y_valid, y_pred, average='micro')}\")"
   ]
  },
  {
   "cell_type": "markdown",
   "metadata": {
    "papermill": {
     "duration": 0.091588,
     "end_time": "2020-11-14T08:12:56.617369",
     "exception": false,
     "start_time": "2020-11-14T08:12:56.525781",
     "status": "completed"
    },
    "tags": []
   },
   "source": [
    "### 3. k-Fold Cross Validation\n",
    "먼저 1. 에서 정리한 전처리 프로세스를 하나의 함수로 만듭니다."
   ]
  },
  {
   "cell_type": "code",
   "execution_count": 47,
   "metadata": {
    "execution": {
     "iopub.execute_input": "2020-11-14T08:12:56.813674Z",
     "iopub.status.busy": "2020-11-14T08:12:56.808996Z",
     "iopub.status.idle": "2020-11-14T08:12:56.816656Z",
     "shell.execute_reply": "2020-11-14T08:12:56.816079Z"
    },
    "papermill": {
     "duration": 0.115192,
     "end_time": "2020-11-14T08:12:56.816777",
     "exception": false,
     "start_time": "2020-11-14T08:12:56.701585",
     "status": "completed"
    },
    "tags": []
   },
   "outputs": [],
   "source": [
    "def preprocess(x_train, x_valid, x_test):\n",
    "    tmp_x_train = x_train.copy()\n",
    "    tmp_x_valid = x_valid.copy()\n",
    "    tmp_x_test  = x_test.copy()\n",
    "    \n",
    "    tmp_x_train = tmp_x_train.reset_index(drop=True)\n",
    "    tmp_x_valid = tmp_x_valid.reset_index(drop=True)\n",
    "    tmp_x_test  = tmp_x_test.reset_index(drop=True)\n",
    "    \n",
    "    for c in has_na_columns:\n",
    "        tmp_x_train.loc[tmp_x_train[c] == '?', c] = tmp_x_train[c].mode()[0]\n",
    "        tmp_x_valid.loc[tmp_x_valid[c] == '?', c] = tmp_x_valid[c].mode()[0]\n",
    "        tmp_x_test.loc[tmp_x_test[c]   == '?', c] = tmp_x_test[c].mode()[0]\n",
    "    \n",
    "    tmp_x_train['log_capital_loss'] = tmp_x_train['capital_loss'].map(lambda x : np.log(x) if x != 0 else 0)\n",
    "    tmp_x_valid['log_capital_loss'] = tmp_x_valid['capital_loss'].map(lambda x : np.log(x) if x != 0 else 0)\n",
    "    tmp_x_test['log_capital_loss'] = tmp_x_test['capital_loss'].map(lambda x : np.log(x) if x != 0 else 0)\n",
    "    \n",
    "    tmp_x_train['log_capital_gain'] = tmp_x_train['capital_gain'].map(lambda x : np.log(x) if x != 0 else 0)\n",
    "    tmp_x_valid['log_capital_gain'] = tmp_x_valid['capital_gain'].map(lambda x : np.log(x) if x != 0 else 0)\n",
    "    tmp_x_test['log_capital_gain'] = tmp_x_test['capital_gain'].map(lambda x : np.log(x) if x != 0 else 0)\n",
    "    \n",
    "    tmp_x_train = tmp_x_train.drop(columns=['capital_loss', 'capital_gain'])\n",
    "    tmp_x_valid = tmp_x_valid.drop(columns=['capital_loss', 'capital_gain'])\n",
    "    tmp_x_test  = tmp_x_test.drop(columns=['capital_loss', 'capital_gain'])\n",
    "    \n",
    "    scaler = StandardScaler()\n",
    "    tmp_x_train[num_columns] = scaler.fit_transform(tmp_x_train[num_columns])\n",
    "    tmp_x_valid[num_columns] = scaler.transform(tmp_x_valid[num_columns])\n",
    "    tmp_x_test[num_columns]  = scaler.transform(tmp_x_test[num_columns])\n",
    "    \n",
    "    tmp_all = pd.concat([tmp_x_train, tmp_x_valid, tmp_x_test])\n",
    "\n",
    "    ohe = OneHotEncoder(sparse=False)\n",
    "    ohe.fit(tmp_all[cat_columns])\n",
    "    \n",
    "    ohe_columns = list()\n",
    "    for lst in ohe.categories_:\n",
    "        ohe_columns += lst.tolist()\n",
    "    \n",
    "    tmp_train_cat = pd.DataFrame(ohe.transform(tmp_x_train[cat_columns]), columns=ohe_columns)\n",
    "    tmp_valid_cat = pd.DataFrame(ohe.transform(tmp_x_valid[cat_columns]), columns=ohe_columns)\n",
    "    tmp_test_cat  = pd.DataFrame(ohe.transform(tmp_x_test[cat_columns]), columns=ohe_columns)\n",
    "    \n",
    "    tmp_x_train = pd.concat([tmp_x_train, tmp_train_cat], axis=1)\n",
    "    tmp_x_valid = pd.concat([tmp_x_valid, tmp_valid_cat], axis=1)\n",
    "    tmp_x_test = pd.concat([tmp_x_test, tmp_test_cat], axis=1)\n",
    "\n",
    "    tmp_x_train = tmp_x_train.drop(columns=cat_columns)\n",
    "    tmp_x_valid = tmp_x_valid.drop(columns=cat_columns)\n",
    "    tmp_x_test = tmp_x_test.drop(columns=cat_columns)\n",
    "    \n",
    "    return tmp_x_train.values, tmp_x_valid.values, tmp_x_test.values"
   ]
  },
  {
   "cell_type": "code",
   "execution_count": 48,
   "metadata": {
    "execution": {
     "iopub.execute_input": "2020-11-14T08:12:57.062664Z",
     "iopub.status.busy": "2020-11-14T08:12:57.061308Z",
     "iopub.status.idle": "2020-11-14T08:12:57.066764Z",
     "shell.execute_reply": "2020-11-14T08:12:57.067521Z"
    },
    "papermill": {
     "duration": 0.147825,
     "end_time": "2020-11-14T08:12:57.067715",
     "exception": false,
     "start_time": "2020-11-14T08:12:56.919890",
     "status": "completed"
    },
    "tags": []
   },
   "outputs": [],
   "source": [
    "def xgb_f1(y, t, threshold=0.5):\n",
    "    t = t.get_label()\n",
    "    y_bin = (y > threshold).astype(int) \n",
    "    return 'f1',f1_score(t, y_bin, average='micro')"
   ]
  },
  {
   "cell_type": "code",
   "execution_count": 49,
   "metadata": {
    "execution": {
     "iopub.execute_input": "2020-11-14T08:12:57.343056Z",
     "iopub.status.busy": "2020-11-14T08:12:57.342019Z",
     "iopub.status.idle": "2020-11-14T08:12:57.344690Z",
     "shell.execute_reply": "2020-11-14T08:12:57.345316Z"
    },
    "papermill": {
     "duration": 0.150626,
     "end_time": "2020-11-14T08:12:57.345623",
     "exception": false,
     "start_time": "2020-11-14T08:12:57.194997",
     "status": "completed"
    },
    "tags": []
   },
   "outputs": [],
   "source": [
    "from sklearn.model_selection import StratifiedKFold\n",
    "n_splits = 5\n",
    "skf = StratifiedKFold(n_splits=n_splits, shuffle=True, random_state=2020)"
   ]
  },
  {
   "cell_type": "code",
   "execution_count": 50,
   "metadata": {
    "execution": {
     "iopub.execute_input": "2020-11-14T08:12:57.625400Z",
     "iopub.status.busy": "2020-11-14T08:12:57.624433Z",
     "iopub.status.idle": "2020-11-14T08:12:57.627011Z",
     "shell.execute_reply": "2020-11-14T08:12:57.627613Z"
    },
    "papermill": {
     "duration": 0.12718,
     "end_time": "2020-11-14T08:12:57.627789",
     "exception": false,
     "start_time": "2020-11-14T08:12:57.500609",
     "status": "completed"
    },
    "tags": []
   },
   "outputs": [],
   "source": [
    "def xgb_f1(y, t, threshold=0.5):\n",
    "    t = t.get_label()\n",
    "    y_bin = (y > threshold).astype(int) # works for both type(y) == <class 'numpy.ndarray'> and type(y) == <class 'pandas.core.series.Series'>\n",
    "    return 'f1',f1_score(t,y_bin)"
   ]
  },
  {
   "cell_type": "code",
   "execution_count": 51,
   "metadata": {
    "execution": {
     "iopub.execute_input": "2020-11-14T08:12:57.817130Z",
     "iopub.status.busy": "2020-11-14T08:12:57.816132Z",
     "iopub.status.idle": "2020-11-14T08:13:04.656263Z",
     "shell.execute_reply": "2020-11-14T08:13:04.656964Z"
    },
    "papermill": {
     "duration": 6.941637,
     "end_time": "2020-11-14T08:13:04.657140",
     "exception": false,
     "start_time": "2020-11-14T08:12:57.715503",
     "status": "completed"
    },
    "tags": []
   },
   "outputs": [
    {
     "name": "stdout",
     "output_type": "stream",
     "text": [
      "[0]\tvalidation_0-error:0.14530\tvalidation_0-f1:0.42848\n",
      "Multiple eval metrics have been passed: 'validation_0-f1' will be used for early stopping.\n",
      "\n",
      "Will train until validation_0-f1 hasn't improved in 100 rounds.\n",
      "[99]\tvalidation_0-error:0.13109\tvalidation_0-f1:0.68083\n",
      "0 Fold, train f1_score : 0.85894, validation f1_score : 0.8574\n",
      "\n",
      "[0]\tvalidation_0-error:0.14741\tvalidation_0-f1:0.37876\n",
      "Multiple eval metrics have been passed: 'validation_0-f1' will be used for early stopping.\n",
      "\n",
      "Will train until validation_0-f1 hasn't improved in 100 rounds.\n",
      "[99]\tvalidation_0-error:0.12841\tvalidation_0-f1:0.66051\n",
      "1 Fold, train f1_score : 0.85584, validation f1_score : 0.8562\n",
      "\n",
      "[0]\tvalidation_0-error:0.15010\tvalidation_0-f1:0.42590\n",
      "Multiple eval metrics have been passed: 'validation_0-f1' will be used for early stopping.\n",
      "\n",
      "Will train until validation_0-f1 hasn't improved in 100 rounds.\n",
      "[99]\tvalidation_0-error:0.13378\tvalidation_0-f1:0.67356\n",
      "2 Fold, train f1_score : 0.85724, validation f1_score : 0.8516\n",
      "\n",
      "[0]\tvalidation_0-error:0.15048\tvalidation_0-f1:0.44034\n",
      "Multiple eval metrics have been passed: 'validation_0-f1' will be used for early stopping.\n",
      "\n",
      "Will train until validation_0-f1 hasn't improved in 100 rounds.\n",
      "[99]\tvalidation_0-error:0.13282\tvalidation_0-f1:0.67895\n",
      "3 Fold, train f1_score : 0.85504, validation f1_score : 0.8530\n",
      "\n",
      "[0]\tvalidation_0-error:0.14821\tvalidation_0-f1:0.42197\n",
      "Multiple eval metrics have been passed: 'validation_0-f1' will be used for early stopping.\n",
      "\n",
      "Will train until validation_0-f1 hasn't improved in 100 rounds.\n",
      "[99]\tvalidation_0-error:0.13073\tvalidation_0-f1:0.66792\n",
      "4 Fold, train f1_score : 0.85724, validation f1_score : 0.8533\n",
      "\n",
      "Cross Validation Score : 0.8543\n"
     ]
    }
   ],
   "source": [
    "val_scores = list()\n",
    "oof_pred = np.zeros((test.shape[0],))\n",
    "\n",
    "for i, (trn_idx, val_idx) in enumerate(skf.split(train, label)):\n",
    "    x_train, y_train = train.iloc[trn_idx, :], label[trn_idx]\n",
    "    x_valid, y_valid = train.iloc[val_idx, :], label[val_idx]\n",
    "    \n",
    "    # 전처리\n",
    "    x_train, x_valid, x_test = preprocess(x_train, x_valid, test)\n",
    "    \n",
    "    # 모델 정의\n",
    "    clf = XGBClassifier(tree_method='gpu_hist')\n",
    "    \n",
    "    # 모델 학습\n",
    "    clf.fit(x_train, y_train,\n",
    "            eval_set = [[x_valid, y_valid]], \n",
    "            eval_metric = xgb_f1,       \n",
    "            early_stopping_rounds = 100,\n",
    "            verbose = 100,  )\n",
    "\n",
    "    # 훈련, 검증 데이터 Log Loss 확인\n",
    "    trn_f1_score = f1_score(y_train, clf.predict(x_train), average='micro')\n",
    "    val_f1_score = f1_score(y_valid, clf.predict(x_valid), average='micro')\n",
    "    print('{} Fold, train f1_score : {:.4f}4, validation f1_score : {:.4f}\\n'.format(i, trn_f1_score, val_f1_score))\n",
    "    \n",
    "    val_scores.append(val_f1_score)\n",
    "    \n",
    "\n",
    "# 교차 검증 F1 Score 평균 계산하기\n",
    "print('Cross Validation Score : {:.4f}'.format(np.mean(val_scores)))"
   ]
  },
  {
   "cell_type": "markdown",
   "metadata": {
    "papermill": {
     "duration": 0.101646,
     "end_time": "2020-11-14T08:13:04.864590",
     "exception": false,
     "start_time": "2020-11-14T08:13:04.762944",
     "status": "completed"
    },
    "tags": []
   },
   "source": [
    "### 4. OOF(Out-Of-Fold) 앙상블\n",
    "k-Fold를 활용해서 모델 검증 및 각 폴드의 결과를 앙상블하는 OOF 앙상블 입니다."
   ]
  },
  {
   "cell_type": "code",
   "execution_count": 52,
   "metadata": {
    "execution": {
     "iopub.execute_input": "2020-11-14T08:13:05.051754Z",
     "iopub.status.busy": "2020-11-14T08:13:05.049457Z",
     "iopub.status.idle": "2020-11-14T08:13:05.054421Z",
     "shell.execute_reply": "2020-11-14T08:13:05.053816Z"
    },
    "papermill": {
     "duration": 0.101764,
     "end_time": "2020-11-14T08:13:05.054545",
     "exception": false,
     "start_time": "2020-11-14T08:13:04.952781",
     "status": "completed"
    },
    "tags": []
   },
   "outputs": [
    {
     "data": {
      "text/plain": [
       "array([0., 0., 0., ..., 0., 0., 0.])"
      ]
     },
     "execution_count": 52,
     "metadata": {},
     "output_type": "execute_result"
    }
   ],
   "source": [
    "np.zeros(test.shape[0], )"
   ]
  },
  {
   "cell_type": "code",
   "execution_count": 53,
   "metadata": {
    "execution": {
     "iopub.execute_input": "2020-11-14T08:13:05.262994Z",
     "iopub.status.busy": "2020-11-14T08:13:05.261932Z",
     "iopub.status.idle": "2020-11-14T08:13:12.272028Z",
     "shell.execute_reply": "2020-11-14T08:13:12.273404Z"
    },
    "papermill": {
     "duration": 7.12173,
     "end_time": "2020-11-14T08:13:12.273592",
     "exception": false,
     "start_time": "2020-11-14T08:13:05.151862",
     "status": "completed"
    },
    "tags": []
   },
   "outputs": [
    {
     "name": "stdout",
     "output_type": "stream",
     "text": [
      "[0]\tvalidation_0-error:0.14530\tvalidation_0-f1:0.42848\n",
      "Multiple eval metrics have been passed: 'validation_0-f1' will be used for early stopping.\n",
      "\n",
      "Will train until validation_0-f1 hasn't improved in 100 rounds.\n",
      "[99]\tvalidation_0-error:0.13109\tvalidation_0-f1:0.68083\n",
      "0 Fold, train f1_score : 0.85894, validation f1_score : 0.8574\n",
      "\n",
      "[0]\tvalidation_0-error:0.14741\tvalidation_0-f1:0.37876\n",
      "Multiple eval metrics have been passed: 'validation_0-f1' will be used for early stopping.\n",
      "\n",
      "Will train until validation_0-f1 hasn't improved in 100 rounds.\n",
      "[99]\tvalidation_0-error:0.12841\tvalidation_0-f1:0.66051\n",
      "1 Fold, train f1_score : 0.85584, validation f1_score : 0.8562\n",
      "\n",
      "[0]\tvalidation_0-error:0.15010\tvalidation_0-f1:0.42590\n",
      "Multiple eval metrics have been passed: 'validation_0-f1' will be used for early stopping.\n",
      "\n",
      "Will train until validation_0-f1 hasn't improved in 100 rounds.\n",
      "[99]\tvalidation_0-error:0.13378\tvalidation_0-f1:0.67356\n",
      "2 Fold, train f1_score : 0.85724, validation f1_score : 0.8516\n",
      "\n",
      "[0]\tvalidation_0-error:0.15048\tvalidation_0-f1:0.44034\n",
      "Multiple eval metrics have been passed: 'validation_0-f1' will be used for early stopping.\n",
      "\n",
      "Will train until validation_0-f1 hasn't improved in 100 rounds.\n",
      "[99]\tvalidation_0-error:0.13282\tvalidation_0-f1:0.67895\n",
      "3 Fold, train f1_score : 0.85504, validation f1_score : 0.8530\n",
      "\n",
      "[0]\tvalidation_0-error:0.14821\tvalidation_0-f1:0.42197\n",
      "Multiple eval metrics have been passed: 'validation_0-f1' will be used for early stopping.\n",
      "\n",
      "Will train until validation_0-f1 hasn't improved in 100 rounds.\n",
      "[99]\tvalidation_0-error:0.13073\tvalidation_0-f1:0.66792\n",
      "4 Fold, train f1_score : 0.85724, validation f1_score : 0.8533\n",
      "\n",
      "Cross Validation Score : 0.8543\n"
     ]
    }
   ],
   "source": [
    "val_scores = list()\n",
    "oof_pred = np.zeros((test.shape[0], ))\n",
    "\n",
    "for i, (trn_idx, val_idx) in enumerate(skf.split(train, label)):\n",
    "    x_train, y_train = train.iloc[trn_idx, :], label[trn_idx]\n",
    "    x_valid, y_valid = train.iloc[val_idx, :], label[val_idx]\n",
    "    \n",
    "    # 전처리\n",
    "    x_train, x_valid, x_test = preprocess(x_train, x_valid, test)\n",
    "    \n",
    "    # 모델 정의\n",
    "    clf = XGBClassifier(tree_method='gpu_hist')\n",
    "    \n",
    "    # 모델 학습\n",
    "    clf.fit(x_train, y_train,\n",
    "            eval_set = [[x_valid, y_valid]], \n",
    "            eval_metric = xgb_f1,        \n",
    "            early_stopping_rounds = 100,\n",
    "            verbose = 100,  )\n",
    "\n",
    "    # 훈련, 검증 데이터 F1 Score 확인\n",
    "    trn_f1_score = f1_score(y_train, clf.predict(x_train), average='micro')\n",
    "    val_f1_score = f1_score(y_valid, clf.predict(x_valid), average='micro')\n",
    "    print('{} Fold, train f1_score : {:.4f}4, validation f1_score : {:.4f}\\n'.format(i, trn_f1_score, val_f1_score))\n",
    "    \n",
    "    val_scores.append(val_f1_score)\n",
    "    \n",
    "    oof_pred += clf.predict_proba(x_test)[:, 1] / n_splits\n",
    "    \n",
    "\n",
    "# 교차 검증 F1 Score 평균 계산하기\n",
    "print('Cross Validation Score : {:.4f}'.format(np.mean(val_scores)))"
   ]
  },
  {
   "cell_type": "code",
   "execution_count": 54,
   "metadata": {
    "execution": {
     "iopub.execute_input": "2020-11-14T08:13:12.510508Z",
     "iopub.status.busy": "2020-11-14T08:13:12.508594Z",
     "iopub.status.idle": "2020-11-14T08:13:12.513157Z",
     "shell.execute_reply": "2020-11-14T08:13:12.512555Z"
    },
    "papermill": {
     "duration": 0.12046,
     "end_time": "2020-11-14T08:13:12.513297",
     "exception": false,
     "start_time": "2020-11-14T08:13:12.392837",
     "status": "completed"
    },
    "tags": []
   },
   "outputs": [
    {
     "data": {
      "text/plain": [
       "array([0, 0, 0, ..., 0, 0, 0])"
      ]
     },
     "execution_count": 54,
     "metadata": {},
     "output_type": "execute_result"
    }
   ],
   "source": [
    "(oof_pred >0.5).astype(int)"
   ]
  },
  {
   "cell_type": "markdown",
   "metadata": {
    "papermill": {
     "duration": 0.100182,
     "end_time": "2020-11-14T08:13:12.711297",
     "exception": false,
     "start_time": "2020-11-14T08:13:12.611115",
     "status": "completed"
    },
    "tags": []
   },
   "source": [
    "### 5. Stacking 앙상블\n",
    "2 stage 앙상블인 Stacking 앙상블 입니다. Stacking 앙상블은 수십개의 1 stage 모델의 결과를 모아 2 stage 모델로 학습 후 결과를 내는 앙상블 방식입니다.\n",
    "\n",
    "#### 1) 1 stage 결과 모으기\n",
    "Stacking 앙상블을 진행할 1 stage 모델의 결과(train, test)를 모읍니다. "
   ]
  },
  {
   "cell_type": "code",
   "execution_count": 55,
   "metadata": {
    "execution": {
     "iopub.execute_input": "2020-11-14T08:13:12.925133Z",
     "iopub.status.busy": "2020-11-14T08:13:12.924096Z",
     "iopub.status.idle": "2020-11-14T08:13:40.487748Z",
     "shell.execute_reply": "2020-11-14T08:13:40.488365Z"
    },
    "papermill": {
     "duration": 27.677396,
     "end_time": "2020-11-14T08:13:40.488535",
     "exception": false,
     "start_time": "2020-11-14T08:13:12.811139",
     "status": "completed"
    },
    "tags": []
   },
   "outputs": [
    {
     "name": "stdout",
     "output_type": "stream",
     "text": [
      "Fold 0 Start\n",
      "Fold 1 Start\n",
      "Fold 2 Start\n",
      "Fold 3 Start\n",
      "Fold 4 Start\n"
     ]
    }
   ],
   "source": [
    "val_scores = list()\n",
    "\n",
    "new_x_train_list = [np.zeros((train.shape[0], 1)) for _ in range(4)]\n",
    "new_x_test_list  = [np.zeros((test.shape[0], 1)) for _ in range(4)]\n",
    "\n",
    "for i, (trn_idx, val_idx) in enumerate(skf.split(train, label)):\n",
    "    print(f\"Fold {i} Start\")\n",
    "    x_train, y_train = train.iloc[trn_idx, :], label[trn_idx]\n",
    "    x_valid, y_valid = train.iloc[val_idx, :], label[val_idx]\n",
    "    \n",
    "    # 전처리\n",
    "    x_train, x_valid, x_test = preprocess(x_train, x_valid, test)\n",
    "    \n",
    "    # 모델 정의\n",
    "    clfs = [LogisticRegression(), \n",
    "            RandomForestClassifier(), \n",
    "            XGBClassifier(tree_method='gpu_hist'), \n",
    "            LGBMClassifier(tree_method='gpu_hist')]\n",
    "    \n",
    "    for model_idx, clf in enumerate(clfs):\n",
    "        clf.fit(x_train, y_train)\n",
    "        \n",
    "        new_x_train_list[model_idx][val_idx, :] = clf.predict_proba(x_valid)[:, 1].reshape(-1, 1)\n",
    "        new_x_test_list[model_idx][:] += clf.predict_proba(x_test)[:, 1].reshape(-1, 1) / n_splits"
   ]
  },
  {
   "cell_type": "code",
   "execution_count": 56,
   "metadata": {
    "execution": {
     "iopub.execute_input": "2020-11-14T08:13:40.738656Z",
     "iopub.status.busy": "2020-11-14T08:13:40.737792Z",
     "iopub.status.idle": "2020-11-14T08:13:40.744190Z",
     "shell.execute_reply": "2020-11-14T08:13:40.743603Z"
    },
    "papermill": {
     "duration": 0.126413,
     "end_time": "2020-11-14T08:13:40.744319",
     "exception": false,
     "start_time": "2020-11-14T08:13:40.617906",
     "status": "completed"
    },
    "tags": []
   },
   "outputs": [
    {
     "data": {
      "text/plain": [
       "[array([[0.40378779],\n",
       "        [0.00085303],\n",
       "        [0.00188292],\n",
       "        ...,\n",
       "        [0.16104723],\n",
       "        [0.00242701],\n",
       "        [0.00375975]]),\n",
       " array([[0.37],\n",
       "        [0.  ],\n",
       "        [0.  ],\n",
       "        ...,\n",
       "        [0.22],\n",
       "        [0.02],\n",
       "        [0.  ]]),\n",
       " array([[4.54346806e-01],\n",
       "        [1.63364821e-04],\n",
       "        [1.38795775e-04],\n",
       "        ...,\n",
       "        [3.81566994e-02],\n",
       "        [4.90012253e-03],\n",
       "        [1.68046769e-04]]),\n",
       " array([[4.31411770e-01],\n",
       "        [2.26804236e-03],\n",
       "        [3.93953680e-04],\n",
       "        ...,\n",
       "        [1.64828301e-01],\n",
       "        [4.23512656e-03],\n",
       "        [3.65175015e-04]])]"
      ]
     },
     "execution_count": 56,
     "metadata": {},
     "output_type": "execute_result"
    }
   ],
   "source": [
    "new_x_train_list"
   ]
  },
  {
   "cell_type": "code",
   "execution_count": 57,
   "metadata": {
    "execution": {
     "iopub.execute_input": "2020-11-14T08:13:41.039240Z",
     "iopub.status.busy": "2020-11-14T08:13:41.037776Z",
     "iopub.status.idle": "2020-11-14T08:13:41.043041Z",
     "shell.execute_reply": "2020-11-14T08:13:41.043981Z"
    },
    "papermill": {
     "duration": 0.18869,
     "end_time": "2020-11-14T08:13:41.044221",
     "exception": false,
     "start_time": "2020-11-14T08:13:40.855531",
     "status": "completed"
    },
    "tags": []
   },
   "outputs": [
    {
     "data": {
      "text/plain": [
       "[array([[0.00823119],\n",
       "        [0.49781228],\n",
       "        [0.00315219],\n",
       "        ...,\n",
       "        [0.02010608],\n",
       "        [0.21492675],\n",
       "        [0.0078171 ]]),\n",
       " array([[0.   ],\n",
       "        [0.512],\n",
       "        [0.   ],\n",
       "        ...,\n",
       "        [0.   ],\n",
       "        [0.346],\n",
       "        [0.002]]),\n",
       " array([[3.04820507e-03],\n",
       "        [5.13972826e-01],\n",
       "        [5.62181694e-05],\n",
       "        ...,\n",
       "        [9.68824374e-03],\n",
       "        [2.01625150e-01],\n",
       "        [8.45001510e-03]]),\n",
       " array([[4.61881749e-03],\n",
       "        [5.16552143e-01],\n",
       "        [3.19520376e-04],\n",
       "        ...,\n",
       "        [2.33144000e-02],\n",
       "        [2.03639978e-01],\n",
       "        [8.27652645e-03]])]"
      ]
     },
     "execution_count": 57,
     "metadata": {},
     "output_type": "execute_result"
    }
   ],
   "source": [
    "new_x_test_list"
   ]
  },
  {
   "cell_type": "code",
   "execution_count": 58,
   "metadata": {
    "execution": {
     "iopub.execute_input": "2020-11-14T08:13:41.356072Z",
     "iopub.status.busy": "2020-11-14T08:13:41.355127Z",
     "iopub.status.idle": "2020-11-14T08:13:41.363255Z",
     "shell.execute_reply": "2020-11-14T08:13:41.364810Z"
    },
    "papermill": {
     "duration": 0.166324,
     "end_time": "2020-11-14T08:13:41.365000",
     "exception": false,
     "start_time": "2020-11-14T08:13:41.198676",
     "status": "completed"
    },
    "tags": []
   },
   "outputs": [
    {
     "data": {
      "text/plain": [
       "((26049, 4), (26049,), (6512, 4))"
      ]
     },
     "execution_count": 58,
     "metadata": {},
     "output_type": "execute_result"
    }
   ],
   "source": [
    "new_train = pd.DataFrame(np.concatenate(new_x_train_list, axis=1), columns=None)\n",
    "\n",
    "new_label = label\n",
    "\n",
    "new_test = pd.DataFrame(np.concatenate(new_x_test_list, axis=1), columns=None)\n",
    "\n",
    "new_train.shape, new_label.shape, new_test.shape"
   ]
  },
  {
   "cell_type": "markdown",
   "metadata": {
    "papermill": {
     "duration": 0.134939,
     "end_time": "2020-11-14T08:13:41.667420",
     "exception": false,
     "start_time": "2020-11-14T08:13:41.532481",
     "status": "completed"
    },
    "tags": []
   },
   "source": [
    "#### 2) 2 Stage Meta Model 학습\n",
    "new_train, new_test에 들어있는 변수는 모두 수치형 변수이므로 Standard Scaling만 진행하겠습니다.<br>\n",
    "새로 생성한 데이터 new_train, new_test 데이터를 가지고 2 Stage Meta Model을 학습하고 결과를 만듭니다."
   ]
  },
  {
   "cell_type": "code",
   "execution_count": 59,
   "metadata": {
    "execution": {
     "iopub.execute_input": "2020-11-14T08:13:41.887021Z",
     "iopub.status.busy": "2020-11-14T08:13:41.885918Z",
     "iopub.status.idle": "2020-11-14T08:13:45.110318Z",
     "shell.execute_reply": "2020-11-14T08:13:45.109440Z"
    },
    "papermill": {
     "duration": 3.340491,
     "end_time": "2020-11-14T08:13:45.110460",
     "exception": false,
     "start_time": "2020-11-14T08:13:41.769969",
     "status": "completed"
    },
    "tags": []
   },
   "outputs": [
    {
     "name": "stdout",
     "output_type": "stream",
     "text": [
      "[0]\tvalidation_0-error:0.13263\tvalidation_0-f1:0.45488\n",
      "Multiple eval metrics have been passed: 'validation_0-f1' will be used for early stopping.\n",
      "\n",
      "Will train until validation_0-f1 hasn't improved in 100 rounds.\n",
      "[99]\tvalidation_0-error:0.13205\tvalidation_0-f1:0.65087\n",
      "0 Fold, train f1_score : 0.87384, validation f1_score : 0.8674\n",
      "\n",
      "[0]\tvalidation_0-error:0.13301\tvalidation_0-f1:0.40929\n",
      "Multiple eval metrics have been passed: 'validation_0-f1' will be used for early stopping.\n",
      "\n",
      "Will train until validation_0-f1 hasn't improved in 100 rounds.\n",
      "[99]\tvalidation_0-error:0.13532\tvalidation_0-f1:0.63473\n",
      "1 Fold, train f1_score : 0.87604, validation f1_score : 0.8670\n",
      "\n",
      "[0]\tvalidation_0-error:0.13263\tvalidation_0-f1:0.42760\n",
      "Multiple eval metrics have been passed: 'validation_0-f1' will be used for early stopping.\n",
      "\n",
      "Will train until validation_0-f1 hasn't improved in 100 rounds.\n",
      "[99]\tvalidation_0-error:0.13858\tvalidation_0-f1:0.64607\n",
      "2 Fold, train f1_score : 0.87504, validation f1_score : 0.8674\n",
      "\n",
      "[0]\tvalidation_0-error:0.13320\tvalidation_0-f1:0.47172\n",
      "Multiple eval metrics have been passed: 'validation_0-f1' will be used for early stopping.\n",
      "\n",
      "Will train until validation_0-f1 hasn't improved in 100 rounds.\n",
      "[99]\tvalidation_0-error:0.13340\tvalidation_0-f1:0.66542\n",
      "3 Fold, train f1_score : 0.87444, validation f1_score : 0.8668\n",
      "\n",
      "[0]\tvalidation_0-error:0.13227\tvalidation_0-f1:0.43951\n",
      "Multiple eval metrics have been passed: 'validation_0-f1' will be used for early stopping.\n",
      "\n",
      "Will train until validation_0-f1 hasn't improved in 100 rounds.\n",
      "[99]\tvalidation_0-error:0.12997\tvalidation_0-f1:0.67013\n",
      "4 Fold, train f1_score : 0.87264, validation f1_score : 0.8677\n",
      "\n",
      "Cross Validation Score : 0.8673\n"
     ]
    }
   ],
   "source": [
    "val_scores = list()\n",
    "oof_pred = np.zeros((test.shape[0], ))\n",
    "\n",
    "for i, (trn_idx, val_idx) in enumerate(skf.split(new_train, new_label)):\n",
    "    x_train, y_train = new_train.iloc[trn_idx, :], new_label[trn_idx]\n",
    "    x_valid, y_valid = new_train.iloc[val_idx, :], new_label[val_idx]\n",
    "    \n",
    "    # 전처리\n",
    "    scaler = StandardScaler()\n",
    "    x_train = scaler.fit_transform(x_train)\n",
    "    x_valid = scaler.transform(x_valid)\n",
    "    x_test  = scaler.transform(new_test)\n",
    "    \n",
    "    # 모델 정의\n",
    "    clf = XGBClassifier(tree_method='gpu_hist')\n",
    "    \n",
    "    # 모델 학습\n",
    "    clf.fit(x_train, y_train,\n",
    "            eval_set = [[x_valid, y_valid]], \n",
    "            eval_metric = xgb_f1,        \n",
    "            early_stopping_rounds = 100,\n",
    "            verbose = 100,  )\n",
    "\n",
    "    # 훈련, 검증 데이터 F1 Score 확인\n",
    "    trn_f1_score = f1_score(y_train, clf.predict(x_train), average='micro')\n",
    "    val_f1_score = f1_score(y_valid, clf.predict(x_valid), average='micro')\n",
    "    print('{} Fold, train f1_score : {:.4f}4, validation f1_score : {:.4f}\\n'.format(i, trn_f1_score, val_f1_score))\n",
    "    \n",
    "    val_scores.append(val_f1_score)\n",
    "    \n",
    "    oof_pred += clf.predict_proba(x_test)[:, 1] / n_splits\n",
    "    \n",
    "\n",
    "# 교차 검증 F1 Score 평균 계산하기\n",
    "print('Cross Validation Score : {:.4f}'.format(np.mean(val_scores)))"
   ]
  },
  {
   "cell_type": "markdown",
   "metadata": {
    "papermill": {
     "duration": 0.122034,
     "end_time": "2020-11-14T08:13:45.371824",
     "exception": false,
     "start_time": "2020-11-14T08:13:45.249790",
     "status": "completed"
    },
    "tags": []
   },
   "source": [
    "### 6. 결과 만들기"
   ]
  },
  {
   "cell_type": "code",
   "execution_count": 60,
   "metadata": {
    "execution": {
     "iopub.execute_input": "2020-11-14T08:13:45.604314Z",
     "iopub.status.busy": "2020-11-14T08:13:45.603474Z",
     "iopub.status.idle": "2020-11-14T08:13:45.610289Z",
     "shell.execute_reply": "2020-11-14T08:13:45.609746Z"
    },
    "papermill": {
     "duration": 0.124618,
     "end_time": "2020-11-14T08:13:45.610420",
     "exception": false,
     "start_time": "2020-11-14T08:13:45.485802",
     "status": "completed"
    },
    "tags": []
   },
   "outputs": [],
   "source": [
    "submit = pd.read_csv(\"/kaggle/input/kakr-4th-competition/sample_submission.csv\")"
   ]
  },
  {
   "cell_type": "code",
   "execution_count": 61,
   "metadata": {
    "execution": {
     "iopub.execute_input": "2020-11-14T08:13:45.843720Z",
     "iopub.status.busy": "2020-11-14T08:13:45.842635Z",
     "iopub.status.idle": "2020-11-14T08:13:45.845290Z",
     "shell.execute_reply": "2020-11-14T08:13:45.845780Z"
    },
    "papermill": {
     "duration": 0.123021,
     "end_time": "2020-11-14T08:13:45.845935",
     "exception": false,
     "start_time": "2020-11-14T08:13:45.722914",
     "status": "completed"
    },
    "tags": []
   },
   "outputs": [],
   "source": [
    "submit.loc[:, 'prediction'] = (oof_pred > 0.5).astype(int)"
   ]
  },
  {
   "cell_type": "code",
   "execution_count": 62,
   "metadata": {
    "execution": {
     "iopub.execute_input": "2020-11-14T08:13:46.082300Z",
     "iopub.status.busy": "2020-11-14T08:13:46.081382Z",
     "iopub.status.idle": "2020-11-14T08:13:46.085008Z",
     "shell.execute_reply": "2020-11-14T08:13:46.085538Z"
    },
    "papermill": {
     "duration": 0.12847,
     "end_time": "2020-11-14T08:13:46.085678",
     "exception": false,
     "start_time": "2020-11-14T08:13:45.957208",
     "status": "completed"
    },
    "tags": []
   },
   "outputs": [
    {
     "data": {
      "text/html": [
       "<div>\n",
       "<style scoped>\n",
       "    .dataframe tbody tr th:only-of-type {\n",
       "        vertical-align: middle;\n",
       "    }\n",
       "\n",
       "    .dataframe tbody tr th {\n",
       "        vertical-align: top;\n",
       "    }\n",
       "\n",
       "    .dataframe thead th {\n",
       "        text-align: right;\n",
       "    }\n",
       "</style>\n",
       "<table border=\"1\" class=\"dataframe\">\n",
       "  <thead>\n",
       "    <tr style=\"text-align: right;\">\n",
       "      <th></th>\n",
       "      <th>id</th>\n",
       "      <th>prediction</th>\n",
       "    </tr>\n",
       "  </thead>\n",
       "  <tbody>\n",
       "    <tr>\n",
       "      <th>0</th>\n",
       "      <td>0</td>\n",
       "      <td>0</td>\n",
       "    </tr>\n",
       "    <tr>\n",
       "      <th>1</th>\n",
       "      <td>1</td>\n",
       "      <td>1</td>\n",
       "    </tr>\n",
       "    <tr>\n",
       "      <th>2</th>\n",
       "      <td>2</td>\n",
       "      <td>0</td>\n",
       "    </tr>\n",
       "    <tr>\n",
       "      <th>3</th>\n",
       "      <td>3</td>\n",
       "      <td>1</td>\n",
       "    </tr>\n",
       "    <tr>\n",
       "      <th>4</th>\n",
       "      <td>4</td>\n",
       "      <td>1</td>\n",
       "    </tr>\n",
       "  </tbody>\n",
       "</table>\n",
       "</div>"
      ],
      "text/plain": [
       "   id  prediction\n",
       "0   0           0\n",
       "1   1           1\n",
       "2   2           0\n",
       "3   3           1\n",
       "4   4           1"
      ]
     },
     "execution_count": 62,
     "metadata": {},
     "output_type": "execute_result"
    }
   ],
   "source": [
    "submit.head()"
   ]
  },
  {
   "cell_type": "code",
   "execution_count": 63,
   "metadata": {
    "execution": {
     "iopub.execute_input": "2020-11-14T08:13:46.318849Z",
     "iopub.status.busy": "2020-11-14T08:13:46.317927Z",
     "iopub.status.idle": "2020-11-14T08:13:46.543082Z",
     "shell.execute_reply": "2020-11-14T08:13:46.542479Z"
    },
    "papermill": {
     "duration": 0.344136,
     "end_time": "2020-11-14T08:13:46.543224",
     "exception": false,
     "start_time": "2020-11-14T08:13:46.199088",
     "status": "completed"
    },
    "tags": []
   },
   "outputs": [],
   "source": [
    "submit.to_csv('submission.csv', index=False)"
   ]
  },
  {
   "cell_type": "code",
   "execution_count": null,
   "metadata": {
    "papermill": {
     "duration": 0.110166,
     "end_time": "2020-11-14T08:13:46.784248",
     "exception": false,
     "start_time": "2020-11-14T08:13:46.674082",
     "status": "completed"
    },
    "tags": []
   },
   "outputs": [],
   "source": []
  }
 ],
 "metadata": {
  "kernelspec": {
   "display_name": "Python 3",
   "language": "python",
   "name": "python3"
  },
  "language_info": {
   "codemirror_mode": {
    "name": "ipython",
    "version": 3
   },
   "file_extension": ".py",
   "mimetype": "text/x-python",
   "name": "python",
   "nbconvert_exporter": "python",
   "pygments_lexer": "ipython3",
   "version": "3.7.6"
  },
  "papermill": {
   "duration": 114.223307,
   "end_time": "2020-11-14T08:13:48.210333",
   "environment_variables": {},
   "exception": null,
   "input_path": "__notebook__.ipynb",
   "output_path": "__notebook__.ipynb",
   "parameters": {},
   "start_time": "2020-11-14T08:11:53.987026",
   "version": "2.1.0"
  }
 },
 "nbformat": 4,
 "nbformat_minor": 4
}
